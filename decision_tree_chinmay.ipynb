{
 "cells": [
  {
   "cell_type": "code",
   "execution_count": 1,
   "metadata": {
    "pycharm": {
     "name": "#%%\n"
    }
   },
   "outputs": [],
   "source": [
    "import numpy as np\n",
    "import pandas as pd\n",
    "import sklearn\n",
    "from matplotlib import pyplot as plt\n",
    "from sklearn.metrics import mean_squared_error\n",
    "from sklearn.model_selection import train_test_split"
   ]
  },
  {
   "cell_type": "code",
   "execution_count": 2,
   "metadata": {
    "pycharm": {
     "name": "#%%\n"
    }
   },
   "outputs": [],
   "source": [
    "X_train = pd.read_csv('./Data/orange_small_train.data', sep='\\t')\n",
    "X_test = pd.read_csv('./Data/orange_small_test.data', sep='\\t')\n",
    "y_train_churn = pd.read_csv('./Data/orange_small_train_churn.labels.txt',header=None)\n",
    "y_train_apt = pd.read_csv('./Data/orange_small_train_appetency.labels',header=None)\n",
    "y_train_upsell = pd.read_csv('./Data/orange_small_train_upselling.labels',header=None)"
   ]
  },
  {
   "cell_type": "code",
   "execution_count": 3,
   "metadata": {
    "pycharm": {
     "name": "#%%\n"
    }
   },
   "outputs": [
    {
     "data": {
      "text/plain": [
       "(-1    0.9822\n",
       "  1    0.0178\n",
       " dtype: float64,\n",
       " -1    0.92656\n",
       "  1    0.07344\n",
       " dtype: float64,\n",
       " -1    0.92636\n",
       "  1    0.07364\n",
       " dtype: float64)"
      ]
     },
     "execution_count": 3,
     "metadata": {},
     "output_type": "execute_result"
    }
   ],
   "source": [
    "y_train_apt.value_counts(normalize=True), y_train_churn.value_counts(normalize=True), y_train_upsell.value_counts(\n",
    "    normalize=True)"
   ]
  },
  {
   "cell_type": "code",
   "execution_count": 4,
   "metadata": {
    "pycharm": {
     "name": "#%%\n"
    }
   },
   "outputs": [
    {
     "data": {
      "text/plain": [
       "40001"
      ]
     },
     "execution_count": 4,
     "metadata": {},
     "output_type": "execute_result"
    }
   ],
   "source": [
    "# dropping any column with missing value\n",
    "\n",
    "# collect minimum no of records to be present value for data\n",
    "# using data with high percentage of missing records makes bad training set and will induce a high variance in the model predictions\n",
    "missing_perc = 20\n",
    "min_count = int(((100 - missing_perc) / 100) * X_train.shape[0] + 1)\n",
    "min_count"
   ]
  },
  {
   "cell_type": "markdown",
   "metadata": {
    "pycharm": {
     "name": "#%% md\n"
    }
   },
   "source": [
    "### Feature engineering"
   ]
  },
  {
   "cell_type": "code",
   "execution_count": 5,
   "metadata": {
    "pycharm": {
     "name": "#%%\n"
    }
   },
   "outputs": [],
   "source": [
    "#drop all missing and only continous variable\n",
    "prefered_uniques = 10\n",
    "# create a list of numeric values and less than prefered uniques categorical columns\n",
    "fe_unique_columns = list(X_train.select_dtypes(include='number').columns) + list(\n",
    "    (X_train.select_dtypes(include='object').nunique() < prefered_uniques).index[\n",
    "        X_train.select_dtypes(include='object').nunique() < prefered_uniques])\n",
    "# collect only numeric features\n",
    "X_train_all_missing_drop_continous = X_train.dropna( axis=1,thresh=min_count).dropna(axis=0).select_dtypes(include=['number'])#.agg(['nunique','count'])\n",
    "numeric_col_after_drop = X_train_all_missing_drop_continous.columns\n",
    "# create X_train with categorical variables with less than 10 uniques\n",
    "X_train_all_missing_dropped_prefered_unique_cat = X_train[fe_unique_columns].dropna( axis=1,thresh=min_count).dropna(axis=0)\n",
    "feature_prefered_columns = list(X_train_all_missing_dropped_prefered_unique_cat.columns)\n",
    "# creating dummy variables for the data with  categorical variables\n",
    "X_train_encoded = pd.get_dummies(X_train_all_missing_dropped_prefered_unique_cat,drop_first=True)\n",
    "X_train_numeric = X_train_all_missing_drop_continous\n",
    "del X_train_all_missing_drop_continous\n",
    "# selecting X_test with the appropriate predictors for numeric predictors and selected unique threshold for category inclusion in predictors\n",
    "X_test_numeric = X_test[numeric_col_after_drop]\n",
    "X_test_encoded = pd.get_dummies(X_test[feature_prefered_columns],drop_first=True)[X_train_encoded.columns]\n"
   ]
  },
  {
   "cell_type": "code",
   "execution_count": 6,
   "metadata": {
    "pycharm": {
     "name": "#%%\n"
    }
   },
   "outputs": [
    {
     "data": {
      "text/plain": [
       "Index(['Var6', 'Var7', 'Var13', 'Var21', 'Var22', 'Var24', 'Var25', 'Var28',\n",
       "       'Var35', 'Var38', 'Var44', 'Var57', 'Var65', 'Var73', 'Var74', 'Var76',\n",
       "       'Var78', 'Var81', 'Var83', 'Var85', 'Var109', 'Var112', 'Var113',\n",
       "       'Var119', 'Var123', 'Var125', 'Var132', 'Var133', 'Var134', 'Var140',\n",
       "       'Var143', 'Var144', 'Var149', 'Var153', 'Var160', 'Var163', 'Var173',\n",
       "       'Var181', 'Var196_JA1C', 'Var196_mKeq', 'Var196_z3mO', 'Var203_F3hy',\n",
       "       'Var203_HLqf', 'Var203_dgxZ', 'Var205_VpdQ', 'Var205_sJzTlal',\n",
       "       'Var208_sBgB', 'Var210_7A3j', 'Var210_DM_V', 'Var210_g5HH',\n",
       "       'Var210_uKAI', 'Var211_Mtgm', 'Var218_cJvF', 'Var221_JIiEFBU',\n",
       "       'Var221_QKW8DRm', 'Var221_d0EEeJi', 'Var221_oslk', 'Var221_z4pH',\n",
       "       'Var221_zCkv', 'Var223_M_8D', 'Var223_bCPvVye', 'Var223_jySVZNlOJy',\n",
       "       'Var227_6fzt', 'Var227_RAYp', 'Var227_ZI9m', 'Var227_nIGXDli',\n",
       "       'Var227_nIGjgSB', 'Var227_vJ_w8kB'],\n",
       "      dtype='object')"
      ]
     },
     "execution_count": 6,
     "metadata": {},
     "output_type": "execute_result"
    }
   ],
   "source": [
    "X_train_encoded.columns"
   ]
  },
  {
   "cell_type": "code",
   "execution_count": 7,
   "metadata": {},
   "outputs": [],
   "source": [
    "features=np.array(X_train_encoded.columns[:38])"
   ]
  },
  {
   "cell_type": "code",
   "execution_count": 8,
   "metadata": {},
   "outputs": [
    {
     "data": {
      "text/plain": [
       "numpy.ndarray"
      ]
     },
     "execution_count": 8,
     "metadata": {},
     "output_type": "execute_result"
    }
   ],
   "source": [
    "type(features)"
   ]
  },
  {
   "cell_type": "code",
   "execution_count": 9,
   "metadata": {},
   "outputs": [],
   "source": [
    "extra_features=['Var196','Var203','Var205','Var208','Var210','Var211','Var218','Var221','Var223','Var227']"
   ]
  },
  {
   "cell_type": "code",
   "execution_count": 10,
   "metadata": {},
   "outputs": [],
   "source": [
    "#features.append(extra_features)\n",
    "for i in range(len(extra_features)):\n",
    "    features=np.append(features,extra_features[i])"
   ]
  },
  {
   "cell_type": "code",
   "execution_count": 11,
   "metadata": {},
   "outputs": [
    {
     "data": {
      "text/plain": [
       "array(['Var6', 'Var7', 'Var13', 'Var21', 'Var22', 'Var24', 'Var25',\n",
       "       'Var28', 'Var35', 'Var38', 'Var44', 'Var57', 'Var65', 'Var73',\n",
       "       'Var74', 'Var76', 'Var78', 'Var81', 'Var83', 'Var85', 'Var109',\n",
       "       'Var112', 'Var113', 'Var119', 'Var123', 'Var125', 'Var132',\n",
       "       'Var133', 'Var134', 'Var140', 'Var143', 'Var144', 'Var149',\n",
       "       'Var153', 'Var160', 'Var163', 'Var173', 'Var181', 'Var196',\n",
       "       'Var203', 'Var205', 'Var208', 'Var210', 'Var211', 'Var218',\n",
       "       'Var221', 'Var223', 'Var227'], dtype=object)"
      ]
     },
     "execution_count": 11,
     "metadata": {},
     "output_type": "execute_result"
    }
   ],
   "source": [
    "features"
   ]
  },
  {
   "cell_type": "code",
   "execution_count": 12,
   "metadata": {},
   "outputs": [],
   "source": [
    "X_train = pd.read_csv('./Data/orange_small_train.data', sep='\\t')\n",
    "X_test = pd.read_csv('./Data/orange_small_test.data', sep='\\t')\n",
    "y_train_churn = pd.read_csv('./Data/orange_small_train_churn.labels.txt',header=None)\n",
    "y_train_apt = pd.read_csv('./Data/orange_small_train_appetency.labels',header=None)\n",
    "y_train_upsell = pd.read_csv('./Data/orange_small_train_upselling.labels',header=None)"
   ]
  },
  {
   "cell_type": "code",
   "execution_count": 13,
   "metadata": {},
   "outputs": [],
   "source": [
    "X_train=X_train[features]\n",
    "X_test=X_test[features]"
   ]
  },
  {
   "cell_type": "code",
   "execution_count": 14,
   "metadata": {},
   "outputs": [
    {
     "data": {
      "text/plain": [
       "Index(['Var6', 'Var7', 'Var13', 'Var21', 'Var22', 'Var24', 'Var25', 'Var28',\n",
       "       'Var35', 'Var38', 'Var44', 'Var57', 'Var65', 'Var73', 'Var74', 'Var76',\n",
       "       'Var78', 'Var81', 'Var83', 'Var85', 'Var109', 'Var112', 'Var113',\n",
       "       'Var119', 'Var123', 'Var125', 'Var132', 'Var133', 'Var134', 'Var140',\n",
       "       'Var143', 'Var144', 'Var149', 'Var153', 'Var160', 'Var163', 'Var173',\n",
       "       'Var181', 'Var196', 'Var203', 'Var205', 'Var208', 'Var210', 'Var211',\n",
       "       'Var218', 'Var221', 'Var223', 'Var227'],\n",
       "      dtype='object')"
      ]
     },
     "execution_count": 14,
     "metadata": {},
     "output_type": "execute_result"
    }
   ],
   "source": [
    "X_train.columns"
   ]
  },
  {
   "cell_type": "code",
   "execution_count": 15,
   "metadata": {},
   "outputs": [],
   "source": [
    "X_train=pd.get_dummies(X_train,columns=extra_features)\n",
    "X_test=pd.get_dummies(X_test,columns=extra_features)"
   ]
  },
  {
   "cell_type": "code",
   "execution_count": 16,
   "metadata": {},
   "outputs": [],
   "source": [
    "X_train['churn']=y_train_churn\n",
    "X_train['apt']=y_train_apt\n",
    "X_train['upsell']=y_train_upsell"
   ]
  },
  {
   "cell_type": "code",
   "execution_count": 17,
   "metadata": {},
   "outputs": [
    {
     "data": {
      "text/plain": [
       "Index(['Var6', 'Var7', 'Var13', 'Var21', 'Var22', 'Var24', 'Var25', 'Var28',\n",
       "       'Var35', 'Var38', 'Var44', 'Var57', 'Var65', 'Var73', 'Var74', 'Var76',\n",
       "       'Var78', 'Var81', 'Var83', 'Var85', 'Var109', 'Var112', 'Var113',\n",
       "       'Var119', 'Var123', 'Var125', 'Var132', 'Var133', 'Var134', 'Var140',\n",
       "       'Var143', 'Var144', 'Var149', 'Var153', 'Var160', 'Var163', 'Var173',\n",
       "       'Var181', 'Var196_1K8T', 'Var196_JA1C', 'Var196_mKeq', 'Var196_z3mO',\n",
       "       'Var203_9_Y1', 'Var203_F3hy', 'Var203_HLqf', 'Var203_dgxZ',\n",
       "       'Var203_pybr', 'Var205_09_Q', 'Var205_VpdQ', 'Var205_sJzTlal',\n",
       "       'Var208_kIsH', 'Var208_sBgB', 'Var210_3av_', 'Var210_7A3j',\n",
       "       'Var210_DM_V', 'Var210_g5HH', 'Var210_oT7d', 'Var210_uKAI',\n",
       "       'Var211_L84s', 'Var211_Mtgm', 'Var218_UYBR', 'Var218_cJvF',\n",
       "       'Var221_Al6ZaUT', 'Var221_JIiEFBU', 'Var221_QKW8DRm', 'Var221_d0EEeJi',\n",
       "       'Var221_oslk', 'Var221_z4pH', 'Var221_zCkv', 'Var223_LM8l689qOp',\n",
       "       'Var223_M_8D', 'Var223_bCPvVye', 'Var223_jySVZNlOJy', 'Var227_02N6s8f',\n",
       "       'Var227_6fzt', 'Var227_RAYp', 'Var227_ZI9m', 'Var227_nIGXDli',\n",
       "       'Var227_nIGjgSB', 'Var227_vJ_w8kB', 'churn', 'apt', 'upsell'],\n",
       "      dtype='object')"
      ]
     },
     "execution_count": 17,
     "metadata": {},
     "output_type": "execute_result"
    }
   ],
   "source": [
    "X_train.columns"
   ]
  },
  {
   "cell_type": "code",
   "execution_count": 18,
   "metadata": {},
   "outputs": [],
   "source": [
    "X_train.dropna(inplace=True)\n",
    "X_test.dropna(inplace=True)"
   ]
  },
  {
   "cell_type": "code",
   "execution_count": 19,
   "metadata": {},
   "outputs": [
    {
     "data": {
      "text/plain": [
       "(42153, 83)"
      ]
     },
     "execution_count": 19,
     "metadata": {},
     "output_type": "execute_result"
    }
   ],
   "source": [
    "X_train.shape"
   ]
  },
  {
   "cell_type": "code",
   "execution_count": 20,
   "metadata": {},
   "outputs": [
    {
     "data": {
      "text/html": [
       "<div>\n",
       "<style scoped>\n",
       "    .dataframe tbody tr th:only-of-type {\n",
       "        vertical-align: middle;\n",
       "    }\n",
       "\n",
       "    .dataframe tbody tr th {\n",
       "        vertical-align: top;\n",
       "    }\n",
       "\n",
       "    .dataframe thead th {\n",
       "        text-align: right;\n",
       "    }\n",
       "</style>\n",
       "<table border=\"1\" class=\"dataframe\">\n",
       "  <thead>\n",
       "    <tr style=\"text-align: right;\">\n",
       "      <th></th>\n",
       "      <th>Var6</th>\n",
       "      <th>Var7</th>\n",
       "      <th>Var13</th>\n",
       "      <th>Var21</th>\n",
       "      <th>Var22</th>\n",
       "      <th>Var24</th>\n",
       "      <th>Var25</th>\n",
       "      <th>Var28</th>\n",
       "      <th>Var35</th>\n",
       "      <th>Var38</th>\n",
       "      <th>...</th>\n",
       "      <th>Var227_02N6s8f</th>\n",
       "      <th>Var227_6fzt</th>\n",
       "      <th>Var227_RAYp</th>\n",
       "      <th>Var227_ZI9m</th>\n",
       "      <th>Var227_nIGXDli</th>\n",
       "      <th>Var227_nIGjgSB</th>\n",
       "      <th>Var227_vJ_w8kB</th>\n",
       "      <th>churn</th>\n",
       "      <th>apt</th>\n",
       "      <th>upsell</th>\n",
       "    </tr>\n",
       "  </thead>\n",
       "  <tbody>\n",
       "    <tr>\n",
       "      <th>0</th>\n",
       "      <td>1526.0</td>\n",
       "      <td>7.0</td>\n",
       "      <td>184.0</td>\n",
       "      <td>464.0</td>\n",
       "      <td>580.0</td>\n",
       "      <td>14.0</td>\n",
       "      <td>128.0</td>\n",
       "      <td>166.56</td>\n",
       "      <td>0.0</td>\n",
       "      <td>3570.0</td>\n",
       "      <td>...</td>\n",
       "      <td>0</td>\n",
       "      <td>0</td>\n",
       "      <td>1</td>\n",
       "      <td>0</td>\n",
       "      <td>0</td>\n",
       "      <td>0</td>\n",
       "      <td>0</td>\n",
       "      <td>-1</td>\n",
       "      <td>-1</td>\n",
       "      <td>-1</td>\n",
       "    </tr>\n",
       "    <tr>\n",
       "      <th>1</th>\n",
       "      <td>525.0</td>\n",
       "      <td>0.0</td>\n",
       "      <td>0.0</td>\n",
       "      <td>168.0</td>\n",
       "      <td>210.0</td>\n",
       "      <td>2.0</td>\n",
       "      <td>24.0</td>\n",
       "      <td>353.52</td>\n",
       "      <td>0.0</td>\n",
       "      <td>4764966.0</td>\n",
       "      <td>...</td>\n",
       "      <td>0</td>\n",
       "      <td>0</td>\n",
       "      <td>1</td>\n",
       "      <td>0</td>\n",
       "      <td>0</td>\n",
       "      <td>0</td>\n",
       "      <td>0</td>\n",
       "      <td>1</td>\n",
       "      <td>-1</td>\n",
       "      <td>-1</td>\n",
       "    </tr>\n",
       "    <tr>\n",
       "      <th>2</th>\n",
       "      <td>5236.0</td>\n",
       "      <td>7.0</td>\n",
       "      <td>904.0</td>\n",
       "      <td>1212.0</td>\n",
       "      <td>1515.0</td>\n",
       "      <td>26.0</td>\n",
       "      <td>816.0</td>\n",
       "      <td>220.08</td>\n",
       "      <td>0.0</td>\n",
       "      <td>5883894.0</td>\n",
       "      <td>...</td>\n",
       "      <td>1</td>\n",
       "      <td>0</td>\n",
       "      <td>0</td>\n",
       "      <td>0</td>\n",
       "      <td>0</td>\n",
       "      <td>0</td>\n",
       "      <td>0</td>\n",
       "      <td>-1</td>\n",
       "      <td>-1</td>\n",
       "      <td>-1</td>\n",
       "    </tr>\n",
       "    <tr>\n",
       "      <th>4</th>\n",
       "      <td>1029.0</td>\n",
       "      <td>7.0</td>\n",
       "      <td>3216.0</td>\n",
       "      <td>64.0</td>\n",
       "      <td>80.0</td>\n",
       "      <td>4.0</td>\n",
       "      <td>64.0</td>\n",
       "      <td>200.00</td>\n",
       "      <td>0.0</td>\n",
       "      <td>0.0</td>\n",
       "      <td>...</td>\n",
       "      <td>0</td>\n",
       "      <td>0</td>\n",
       "      <td>1</td>\n",
       "      <td>0</td>\n",
       "      <td>0</td>\n",
       "      <td>0</td>\n",
       "      <td>0</td>\n",
       "      <td>-1</td>\n",
       "      <td>-1</td>\n",
       "      <td>-1</td>\n",
       "    </tr>\n",
       "    <tr>\n",
       "      <th>5</th>\n",
       "      <td>658.0</td>\n",
       "      <td>7.0</td>\n",
       "      <td>3156.0</td>\n",
       "      <td>224.0</td>\n",
       "      <td>280.0</td>\n",
       "      <td>2.0</td>\n",
       "      <td>72.0</td>\n",
       "      <td>200.00</td>\n",
       "      <td>5.0</td>\n",
       "      <td>0.0</td>\n",
       "      <td>...</td>\n",
       "      <td>1</td>\n",
       "      <td>0</td>\n",
       "      <td>0</td>\n",
       "      <td>0</td>\n",
       "      <td>0</td>\n",
       "      <td>0</td>\n",
       "      <td>0</td>\n",
       "      <td>-1</td>\n",
       "      <td>-1</td>\n",
       "      <td>-1</td>\n",
       "    </tr>\n",
       "  </tbody>\n",
       "</table>\n",
       "<p>5 rows × 83 columns</p>\n",
       "</div>"
      ],
      "text/plain": [
       "     Var6  Var7   Var13   Var21   Var22  Var24  Var25   Var28  Var35  \\\n",
       "0  1526.0   7.0   184.0   464.0   580.0   14.0  128.0  166.56    0.0   \n",
       "1   525.0   0.0     0.0   168.0   210.0    2.0   24.0  353.52    0.0   \n",
       "2  5236.0   7.0   904.0  1212.0  1515.0   26.0  816.0  220.08    0.0   \n",
       "4  1029.0   7.0  3216.0    64.0    80.0    4.0   64.0  200.00    0.0   \n",
       "5   658.0   7.0  3156.0   224.0   280.0    2.0   72.0  200.00    5.0   \n",
       "\n",
       "       Var38  ...  Var227_02N6s8f  Var227_6fzt  Var227_RAYp  Var227_ZI9m  \\\n",
       "0     3570.0  ...               0            0            1            0   \n",
       "1  4764966.0  ...               0            0            1            0   \n",
       "2  5883894.0  ...               1            0            0            0   \n",
       "4        0.0  ...               0            0            1            0   \n",
       "5        0.0  ...               1            0            0            0   \n",
       "\n",
       "   Var227_nIGXDli  Var227_nIGjgSB  Var227_vJ_w8kB  churn  apt  upsell  \n",
       "0               0               0               0     -1   -1      -1  \n",
       "1               0               0               0      1   -1      -1  \n",
       "2               0               0               0     -1   -1      -1  \n",
       "4               0               0               0     -1   -1      -1  \n",
       "5               0               0               0     -1   -1      -1  \n",
       "\n",
       "[5 rows x 83 columns]"
      ]
     },
     "execution_count": 20,
     "metadata": {},
     "output_type": "execute_result"
    }
   ],
   "source": [
    "X_train.head()"
   ]
  },
  {
   "cell_type": "code",
   "execution_count": 21,
   "metadata": {
    "pycharm": {
     "name": "#%%\n"
    }
   },
   "outputs": [],
   "source": [
    "xc_train,xc_test=train_test_split(X_train,train_size=0.9)"
   ]
  },
  {
   "cell_type": "code",
   "execution_count": 22,
   "metadata": {},
   "outputs": [
    {
     "data": {
      "text/plain": [
       "Index(['Var6', 'Var7', 'Var13', 'Var21', 'Var22', 'Var24', 'Var25', 'Var28',\n",
       "       'Var35', 'Var38', 'Var44', 'Var57', 'Var65', 'Var73', 'Var74', 'Var76',\n",
       "       'Var78', 'Var81', 'Var83', 'Var85', 'Var109', 'Var112', 'Var113',\n",
       "       'Var119', 'Var123', 'Var125', 'Var132', 'Var133', 'Var134', 'Var140',\n",
       "       'Var143', 'Var144', 'Var149', 'Var153', 'Var160', 'Var163', 'Var173',\n",
       "       'Var181', 'Var196_1K8T', 'Var196_JA1C', 'Var196_mKeq', 'Var196_z3mO',\n",
       "       'Var203_9_Y1', 'Var203_F3hy', 'Var203_HLqf', 'Var203_dgxZ',\n",
       "       'Var203_pybr', 'Var205_09_Q', 'Var205_VpdQ', 'Var205_sJzTlal',\n",
       "       'Var208_kIsH', 'Var208_sBgB', 'Var210_3av_', 'Var210_7A3j',\n",
       "       'Var210_DM_V', 'Var210_g5HH', 'Var210_oT7d', 'Var210_uKAI',\n",
       "       'Var211_L84s', 'Var211_Mtgm', 'Var218_UYBR', 'Var218_cJvF',\n",
       "       'Var221_Al6ZaUT', 'Var221_JIiEFBU', 'Var221_QKW8DRm', 'Var221_d0EEeJi',\n",
       "       'Var221_oslk', 'Var221_z4pH', 'Var221_zCkv', 'Var223_LM8l689qOp',\n",
       "       'Var223_M_8D', 'Var223_bCPvVye', 'Var223_jySVZNlOJy', 'Var227_02N6s8f',\n",
       "       'Var227_6fzt', 'Var227_RAYp', 'Var227_ZI9m', 'Var227_nIGXDli',\n",
       "       'Var227_nIGjgSB', 'Var227_vJ_w8kB', 'churn', 'apt', 'upsell'],\n",
       "      dtype='object')"
      ]
     },
     "execution_count": 22,
     "metadata": {},
     "output_type": "execute_result"
    }
   ],
   "source": [
    "xc_train.columns"
   ]
  },
  {
   "cell_type": "code",
   "execution_count": 23,
   "metadata": {},
   "outputs": [
    {
     "data": {
      "text/html": [
       "<div>\n",
       "<style scoped>\n",
       "    .dataframe tbody tr th:only-of-type {\n",
       "        vertical-align: middle;\n",
       "    }\n",
       "\n",
       "    .dataframe tbody tr th {\n",
       "        vertical-align: top;\n",
       "    }\n",
       "\n",
       "    .dataframe thead th {\n",
       "        text-align: right;\n",
       "    }\n",
       "</style>\n",
       "<table border=\"1\" class=\"dataframe\">\n",
       "  <thead>\n",
       "    <tr style=\"text-align: right;\">\n",
       "      <th></th>\n",
       "      <th>Var6</th>\n",
       "      <th>Var7</th>\n",
       "      <th>Var13</th>\n",
       "      <th>Var21</th>\n",
       "      <th>Var22</th>\n",
       "      <th>Var24</th>\n",
       "      <th>Var25</th>\n",
       "      <th>Var28</th>\n",
       "      <th>Var35</th>\n",
       "      <th>Var38</th>\n",
       "      <th>...</th>\n",
       "      <th>Var227_02N6s8f</th>\n",
       "      <th>Var227_6fzt</th>\n",
       "      <th>Var227_RAYp</th>\n",
       "      <th>Var227_ZI9m</th>\n",
       "      <th>Var227_nIGXDli</th>\n",
       "      <th>Var227_nIGjgSB</th>\n",
       "      <th>Var227_vJ_w8kB</th>\n",
       "      <th>churn</th>\n",
       "      <th>apt</th>\n",
       "      <th>upsell</th>\n",
       "    </tr>\n",
       "  </thead>\n",
       "  <tbody>\n",
       "    <tr>\n",
       "      <th>24192</th>\n",
       "      <td>1848.0</td>\n",
       "      <td>7.0</td>\n",
       "      <td>1260.0</td>\n",
       "      <td>416.0</td>\n",
       "      <td>520.0</td>\n",
       "      <td>16.0</td>\n",
       "      <td>216.0</td>\n",
       "      <td>220.08</td>\n",
       "      <td>0.0</td>\n",
       "      <td>210516.0</td>\n",
       "      <td>...</td>\n",
       "      <td>0</td>\n",
       "      <td>1</td>\n",
       "      <td>0</td>\n",
       "      <td>0</td>\n",
       "      <td>0</td>\n",
       "      <td>0</td>\n",
       "      <td>0</td>\n",
       "      <td>-1</td>\n",
       "      <td>-1</td>\n",
       "      <td>-1</td>\n",
       "    </tr>\n",
       "    <tr>\n",
       "      <th>21791</th>\n",
       "      <td>3836.0</td>\n",
       "      <td>28.0</td>\n",
       "      <td>7760.0</td>\n",
       "      <td>816.0</td>\n",
       "      <td>1020.0</td>\n",
       "      <td>8.0</td>\n",
       "      <td>192.0</td>\n",
       "      <td>169.68</td>\n",
       "      <td>0.0</td>\n",
       "      <td>240900.0</td>\n",
       "      <td>...</td>\n",
       "      <td>0</td>\n",
       "      <td>0</td>\n",
       "      <td>0</td>\n",
       "      <td>1</td>\n",
       "      <td>0</td>\n",
       "      <td>0</td>\n",
       "      <td>0</td>\n",
       "      <td>-1</td>\n",
       "      <td>-1</td>\n",
       "      <td>-1</td>\n",
       "    </tr>\n",
       "    <tr>\n",
       "      <th>15318</th>\n",
       "      <td>973.0</td>\n",
       "      <td>14.0</td>\n",
       "      <td>6052.0</td>\n",
       "      <td>136.0</td>\n",
       "      <td>170.0</td>\n",
       "      <td>2.0</td>\n",
       "      <td>16.0</td>\n",
       "      <td>220.08</td>\n",
       "      <td>0.0</td>\n",
       "      <td>4954734.0</td>\n",
       "      <td>...</td>\n",
       "      <td>0</td>\n",
       "      <td>0</td>\n",
       "      <td>1</td>\n",
       "      <td>0</td>\n",
       "      <td>0</td>\n",
       "      <td>0</td>\n",
       "      <td>0</td>\n",
       "      <td>-1</td>\n",
       "      <td>-1</td>\n",
       "      <td>-1</td>\n",
       "    </tr>\n",
       "    <tr>\n",
       "      <th>4828</th>\n",
       "      <td>532.0</td>\n",
       "      <td>0.0</td>\n",
       "      <td>0.0</td>\n",
       "      <td>136.0</td>\n",
       "      <td>170.0</td>\n",
       "      <td>0.0</td>\n",
       "      <td>0.0</td>\n",
       "      <td>220.08</td>\n",
       "      <td>0.0</td>\n",
       "      <td>3114666.0</td>\n",
       "      <td>...</td>\n",
       "      <td>0</td>\n",
       "      <td>0</td>\n",
       "      <td>0</td>\n",
       "      <td>0</td>\n",
       "      <td>1</td>\n",
       "      <td>0</td>\n",
       "      <td>0</td>\n",
       "      <td>-1</td>\n",
       "      <td>-1</td>\n",
       "      <td>1</td>\n",
       "    </tr>\n",
       "    <tr>\n",
       "      <th>35266</th>\n",
       "      <td>112.0</td>\n",
       "      <td>0.0</td>\n",
       "      <td>0.0</td>\n",
       "      <td>104.0</td>\n",
       "      <td>130.0</td>\n",
       "      <td>0.0</td>\n",
       "      <td>0.0</td>\n",
       "      <td>250.56</td>\n",
       "      <td>0.0</td>\n",
       "      <td>587202.0</td>\n",
       "      <td>...</td>\n",
       "      <td>0</td>\n",
       "      <td>0</td>\n",
       "      <td>1</td>\n",
       "      <td>0</td>\n",
       "      <td>0</td>\n",
       "      <td>0</td>\n",
       "      <td>0</td>\n",
       "      <td>1</td>\n",
       "      <td>-1</td>\n",
       "      <td>-1</td>\n",
       "    </tr>\n",
       "  </tbody>\n",
       "</table>\n",
       "<p>5 rows × 83 columns</p>\n",
       "</div>"
      ],
      "text/plain": [
       "         Var6  Var7   Var13  Var21   Var22  Var24  Var25   Var28  Var35  \\\n",
       "24192  1848.0   7.0  1260.0  416.0   520.0   16.0  216.0  220.08    0.0   \n",
       "21791  3836.0  28.0  7760.0  816.0  1020.0    8.0  192.0  169.68    0.0   \n",
       "15318   973.0  14.0  6052.0  136.0   170.0    2.0   16.0  220.08    0.0   \n",
       "4828    532.0   0.0     0.0  136.0   170.0    0.0    0.0  220.08    0.0   \n",
       "35266   112.0   0.0     0.0  104.0   130.0    0.0    0.0  250.56    0.0   \n",
       "\n",
       "           Var38  ...  Var227_02N6s8f  Var227_6fzt  Var227_RAYp  Var227_ZI9m  \\\n",
       "24192   210516.0  ...               0            1            0            0   \n",
       "21791   240900.0  ...               0            0            0            1   \n",
       "15318  4954734.0  ...               0            0            1            0   \n",
       "4828   3114666.0  ...               0            0            0            0   \n",
       "35266   587202.0  ...               0            0            1            0   \n",
       "\n",
       "       Var227_nIGXDli  Var227_nIGjgSB  Var227_vJ_w8kB  churn  apt  upsell  \n",
       "24192               0               0               0     -1   -1      -1  \n",
       "21791               0               0               0     -1   -1      -1  \n",
       "15318               0               0               0     -1   -1      -1  \n",
       "4828                1               0               0     -1   -1       1  \n",
       "35266               0               0               0      1   -1      -1  \n",
       "\n",
       "[5 rows x 83 columns]"
      ]
     },
     "execution_count": 23,
     "metadata": {},
     "output_type": "execute_result"
    }
   ],
   "source": [
    "xc_test.head()"
   ]
  },
  {
   "cell_type": "code",
   "execution_count": 24,
   "metadata": {},
   "outputs": [],
   "source": [
    "max_depths=[5,10,15,20,25,30]"
   ]
  },
  {
   "cell_type": "code",
   "execution_count": 26,
   "metadata": {},
   "outputs": [],
   "source": [
    "yc_train,yc_test=xc_train['churn'],xc_test['churn']\n",
    "yu_train,yu_test=xc_train['upsell'],xc_test['upsell']\n",
    "ya_train,ya_test=xc_train['apt'],xc_test['apt']"
   ]
  },
  {
   "cell_type": "code",
   "execution_count": 27,
   "metadata": {},
   "outputs": [],
   "source": [
    "xc_train,xc_test=xc_train.drop(columns=['apt','churn','upsell']),xc_test.drop(columns=['apt','churn','upsell'])"
   ]
  },
  {
   "cell_type": "code",
   "execution_count": 32,
   "metadata": {},
   "outputs": [],
   "source": [
    "from sklearn.tree import DecisionTreeClassifier\n",
    "from sklearn.metrics import accuracy_score"
   ]
  },
  {
   "cell_type": "code",
   "execution_count": 33,
   "metadata": {},
   "outputs": [],
   "source": [
    "accuracy_churn=[]"
   ]
  },
  {
   "cell_type": "code",
   "execution_count": 35,
   "metadata": {},
   "outputs": [],
   "source": [
    "#for churn\n",
    "\n",
    "for i in range(len(max_depths)):\n",
    "    modelchurn=DecisionTreeClassifier(max_depth=max_depths[i])\n",
    "    \n",
    "    modelchurn.fit(xc_train,yc_train)\n",
    "    \n",
    "    preds=modelchurn.predict(xc_test)\n",
    "    \n",
    "    accuracy=accuracy_score(yc_test,preds)\n",
    "    \n",
    "    accuracy_churn.append(accuracy)"
   ]
  },
  {
   "cell_type": "code",
   "execution_count": 37,
   "metadata": {},
   "outputs": [
    {
     "data": {
      "text/plain": [
       "[]"
      ]
     },
     "execution_count": 37,
     "metadata": {},
     "output_type": "execute_result"
    },
    {
     "data": {
      "image/png": "[encoded data removed]",
      "text/plain": [
       "<Figure size 640x480 with 1 Axes>"
      ]
     },
     "metadata": {},
     "output_type": "display_data"
    }
   ],
   "source": [
    "plt.plot(max_depths,accuracy_churn)\n",
    "\n",
    "plt.xlabel('Maximum Depths')\n",
    "plt.ylabel('Accuracy')\n",
    "\n",
    "plt.plot()"
   ]
  },
  {
   "cell_type": "code",
   "execution_count": 38,
   "metadata": {},
   "outputs": [],
   "source": [
    "accuracy_upsell=[]"
   ]
  },
  {
   "cell_type": "code",
   "execution_count": 40,
   "metadata": {},
   "outputs": [],
   "source": [
    "#for upsell\n",
    "\n",
    "for i in range(len(max_depths)):\n",
    "    modelchurn=DecisionTreeClassifier(max_depth=max_depths[i])\n",
    "    \n",
    "    modelchurn.fit(xc_train,yu_train)\n",
    "    \n",
    "    preds=modelchurn.predict(xc_test)\n",
    "    \n",
    "    accuracy=accuracy_score(yu_test,preds)\n",
    "    \n",
    "    accuracy_upsell.append(accuracy)"
   ]
  },
  {
   "cell_type": "code",
   "execution_count": 41,
   "metadata": {},
   "outputs": [
    {
     "data": {
      "text/plain": [
       "[]"
      ]
     },
     "execution_count": 41,
     "metadata": {},
     "output_type": "execute_result"
    },
    {
     "data": {
      "image/png": "[encoded data removed]",
      "text/plain": [
       "<Figure size 640x480 with 1 Axes>"
      ]
     },
     "metadata": {},
     "output_type": "display_data"
    }
   ],
   "source": [
    "plt.plot(max_depths,accuracy_upsell)\n",
    "\n",
    "plt.xlabel('Maximum Depths')\n",
    "plt.ylabel('Accuracy')\n",
    "\n",
    "plt.plot()"
   ]
  },
  {
   "cell_type": "code",
   "execution_count": 42,
   "metadata": {},
   "outputs": [],
   "source": [
    "accuracy_apt=[]"
   ]
  },
  {
   "cell_type": "code",
   "execution_count": 44,
   "metadata": {},
   "outputs": [],
   "source": [
    "#for apt\n",
    "\n",
    "for i in range(len(max_depths)):\n",
    "    modelchurn=DecisionTreeClassifier(max_depth=max_depths[i])\n",
    "    \n",
    "    modelchurn.fit(xc_train,ya_train)\n",
    "    \n",
    "    preds=modelchurn.predict(xc_test)\n",
    "    \n",
    "    accuracy=accuracy_score(ya_test,preds)\n",
    "    \n",
    "    accuracy_apt.append(accuracy)"
   ]
  },
  {
   "cell_type": "code",
   "execution_count": 46,
   "metadata": {},
   "outputs": [
    {
     "data": {
      "text/plain": [
       "[]"
      ]
     },
     "execution_count": 46,
     "metadata": {},
     "output_type": "execute_result"
    },
    {
     "data": {
      "image/png": "[encoded data removed]",
      "text/plain": [
       "<Figure size 640x480 with 1 Axes>"
      ]
     },
     "metadata": {},
     "output_type": "display_data"
    }
   ],
   "source": [
    "plt.plot(max_depths,accuracy_apt)\n",
    "\n",
    "plt.xlabel('Maximum Depths')\n",
    "plt.ylabel('Accuracy')\n",
    "\n",
    "plt.plot()"
   ]
  },
  {
   "cell_type": "code",
   "execution_count": 47,
   "metadata": {},
   "outputs": [],
   "source": [
    "#Therefore max_depth=5 seems suitable"
   ]
  },
  {
   "cell_type": "code",
   "execution_count": 48,
   "metadata": {},
   "outputs": [
    {
     "data": {
      "text/html": [
       "<style>#sk-container-id-1 {color: black;background-color: white;}#sk-container-id-1 pre{padding: 0;}#sk-container-id-1 div.sk-toggleable {background-color: white;}#sk-container-id-1 label.sk-toggleable__label {cursor: pointer;display: block;width: 100%;margin-bottom: 0;padding: 0.3em;box-sizing: border-box;text-align: center;}#sk-container-id-1 label.sk-toggleable__label-arrow:before {content: \"▸\";float: left;margin-right: 0.25em;color: #696969;}#sk-container-id-1 label.sk-toggleable__label-arrow:hover:before {color: black;}#sk-container-id-1 div.sk-estimator:hover label.sk-toggleable__label-arrow:before {color: black;}#sk-container-id-1 div.sk-toggleable__content {max-height: 0;max-width: 0;overflow: hidden;text-align: left;background-color: #f0f8ff;}#sk-container-id-1 div.sk-toggleable__content pre {margin: 0.2em;color: black;border-radius: 0.25em;background-color: #f0f8ff;}#sk-container-id-1 input.sk-toggleable__control:checked~div.sk-toggleable__content {max-height: 200px;max-width: 100%;overflow: auto;}#sk-container-id-1 input.sk-toggleable__control:checked~label.sk-toggleable__label-arrow:before {content: \"▾\";}#sk-container-id-1 div.sk-estimator input.sk-toggleable__control:checked~label.sk-toggleable__label {background-color: #d4ebff;}#sk-container-id-1 div.sk-label input.sk-toggleable__control:checked~label.sk-toggleable__label {background-color: #d4ebff;}#sk-container-id-1 input.sk-hidden--visually {border: 0;clip: rect(1px 1px 1px 1px);clip: rect(1px, 1px, 1px, 1px);height: 1px;margin: -1px;overflow: hidden;padding: 0;position: absolute;width: 1px;}#sk-container-id-1 div.sk-estimator {font-family: monospace;background-color: #f0f8ff;border: 1px dotted black;border-radius: 0.25em;box-sizing: border-box;margin-bottom: 0.5em;}#sk-container-id-1 div.sk-estimator:hover {background-color: #d4ebff;}#sk-container-id-1 div.sk-parallel-item::after {content: \"\";width: 100%;border-bottom: 1px solid gray;flex-grow: 1;}#sk-container-id-1 div.sk-label:hover label.sk-toggleable__label {background-color: #d4ebff;}#sk-container-id-1 div.sk-serial::before {content: \"\";position: absolute;border-left: 1px solid gray;box-sizing: border-box;top: 0;bottom: 0;left: 50%;z-index: 0;}#sk-container-id-1 div.sk-serial {display: flex;flex-direction: column;align-items: center;background-color: white;padding-right: 0.2em;padding-left: 0.2em;position: relative;}#sk-container-id-1 div.sk-item {position: relative;z-index: 1;}#sk-container-id-1 div.sk-parallel {display: flex;align-items: stretch;justify-content: center;background-color: white;position: relative;}#sk-container-id-1 div.sk-item::before, #sk-container-id-1 div.sk-parallel-item::before {content: \"\";position: absolute;border-left: 1px solid gray;box-sizing: border-box;top: 0;bottom: 0;left: 50%;z-index: -1;}#sk-container-id-1 div.sk-parallel-item {display: flex;flex-direction: column;z-index: 1;position: relative;background-color: white;}#sk-container-id-1 div.sk-parallel-item:first-child::after {align-self: flex-end;width: 50%;}#sk-container-id-1 div.sk-parallel-item:last-child::after {align-self: flex-start;width: 50%;}#sk-container-id-1 div.sk-parallel-item:only-child::after {width: 0;}#sk-container-id-1 div.sk-dashed-wrapped {border: 1px dashed gray;margin: 0 0.4em 0.5em 0.4em;box-sizing: border-box;padding-bottom: 0.4em;background-color: white;}#sk-container-id-1 div.sk-label label {font-family: monospace;font-weight: bold;display: inline-block;line-height: 1.2em;}#sk-container-id-1 div.sk-label-container {text-align: center;}#sk-container-id-1 div.sk-container {/* jupyter's `normalize.less` sets `[hidden] { display: none; }` but bootstrap.min.css set `[hidden] { display: none !important; }` so we also need the `!important` here to be able to override the default hidden behavior on the sphinx rendered scikit-learn.org. See: https://github.com/scikit-learn/scikit-learn/issues/21755 */display: inline-block !important;position: relative;}#sk-container-id-1 div.sk-text-repr-fallback {display: none;}</style><div id=\"sk-container-id-1\" class=\"sk-top-container\"><div class=\"sk-text-repr-fallback\"><pre>DecisionTreeClassifier(max_depth=5)</pre><b>In a Jupyter environment, please rerun this cell to show the HTML representation or trust the notebook. <br />On GitHub, the HTML representation is unable to render, please try loading this page with nbviewer.org.</b></div><div class=\"sk-container\" hidden><div class=\"sk-item\"><div class=\"sk-estimator sk-toggleable\"><input class=\"sk-toggleable__control sk-hidden--visually\" id=\"sk-estimator-id-1\" type=\"checkbox\" checked><label for=\"sk-estimator-id-1\" class=\"sk-toggleable__label sk-toggleable__label-arrow\">DecisionTreeClassifier</label><div class=\"sk-toggleable__content\"><pre>DecisionTreeClassifier(max_depth=5)</pre></div></div></div></div></div>"
      ],
      "text/plain": [
       "DecisionTreeClassifier(max_depth=5)"
      ]
     },
     "execution_count": 48,
     "metadata": {},
     "output_type": "execute_result"
    }
   ],
   "source": [
    "model_churn=DecisionTreeClassifier(max_depth=5)\n",
    "model_apt=DecisionTreeClassifier(max_depth=5)\n",
    "model_upsell=DecisionTreeClassifier(max_depth=5)\n",
    "\n",
    "model_churn.fit(xc_train,yc_train)\n",
    "model_apt.fit(xc_train,ya_train)\n",
    "model_upsell.fit(xc_train,yu_train)"
   ]
  },
  {
   "cell_type": "code",
   "execution_count": 49,
   "metadata": {},
   "outputs": [
    {
     "data": {
      "text/plain": [
       "array([0.01765469, 0.        , 0.20698696, 0.        , 0.        ,\n",
       "       0.        , 0.        , 0.01941337, 0.        , 0.        ,\n",
       "       0.        , 0.        , 0.00749139, 0.05907929, 0.00625282,\n",
       "       0.01759149, 0.        , 0.        , 0.        , 0.        ,\n",
       "       0.        , 0.        , 0.13141547, 0.02196302, 0.        ,\n",
       "       0.        , 0.        , 0.        , 0.00873278, 0.02864451,\n",
       "       0.        , 0.        , 0.03154154, 0.        , 0.01559011,\n",
       "       0.        , 0.        , 0.        , 0.        , 0.        ,\n",
       "       0.        , 0.        , 0.        , 0.        , 0.        ,\n",
       "       0.        , 0.        , 0.        , 0.        , 0.13064787,\n",
       "       0.        , 0.        , 0.        , 0.        , 0.        ,\n",
       "       0.03510297, 0.        , 0.03373739, 0.00643362, 0.        ,\n",
       "       0.12297843, 0.08204916, 0.        , 0.        , 0.        ,\n",
       "       0.        , 0.        , 0.01669313, 0.        , 0.        ,\n",
       "       0.        , 0.        , 0.        , 0.        , 0.        ,\n",
       "       0.        , 0.        , 0.        , 0.        , 0.        ])"
      ]
     },
     "execution_count": 49,
     "metadata": {},
     "output_type": "execute_result"
    }
   ],
   "source": [
    "model_churn.feature_importances_"
   ]
  },
  {
   "cell_type": "code",
   "execution_count": 50,
   "metadata": {},
   "outputs": [
    {
     "data": {
      "text/plain": [
       "[]"
      ]
     },
     "execution_count": 50,
     "metadata": {},
     "output_type": "execute_result"
    },
    {
     "data": {
      "image/png": "[encoded data removed]",
      "text/plain": [
       "<Figure size 640x480 with 1 Axes>"
      ]
     },
     "metadata": {},
     "output_type": "display_data"
    }
   ],
   "source": [
    "plt.bar(xc_train.columns,model_churn.feature_importances_)\n",
    "\n",
    "plt.plot()"
   ]
  },
  {
   "cell_type": "code",
   "execution_count": 64,
   "metadata": {},
   "outputs": [],
   "source": [
    "importances=model_churn.feature_importances_\n",
    "indicesc=[]\n",
    "\n",
    "for i in range(len(importances)):\n",
    "    if(importances[i]>0.01):\n",
    "        indicesc.append(i)"
   ]
  },
  {
   "cell_type": "code",
   "execution_count": 73,
   "metadata": {},
   "outputs": [
    {
     "data": {
      "image/png": "[encoded data removed]",
      "text/plain": [
       "<Figure size 5000x1000 with 1 Axes>"
      ]
     },
     "metadata": {},
     "output_type": "display_data"
    }
   ],
   "source": [
    "plt.figure(figsize=(50,10))\n",
    "\n",
    "plt.bar(xc_train.columns[indicesc],importances[indicesc])\n",
    "plt.xticks(fontsize=25)\n",
    "\n",
    "plt.show()"
   ]
  },
  {
   "cell_type": "code",
   "execution_count": 74,
   "metadata": {},
   "outputs": [],
   "source": [
    "predictions=model_churn.predict(xc_test)"
   ]
  },
  {
   "cell_type": "code",
   "execution_count": 79,
   "metadata": {},
   "outputs": [
    {
     "name": "stderr",
     "output_type": "stream",
     "text": [
      "C:\\Users\\chinm\\AppData\\Local\\Programs\\Python\\Python310\\lib\\site-packages\\sklearn\\utils\\deprecation.py:87: FutureWarning: Function plot_roc_curve is deprecated; Function :func:`plot_roc_curve` is deprecated in 1.0 and will be removed in 1.2. Use one of the class methods: :meth:`sklearn.metrics.RocCurveDisplay.from_predictions` or :meth:`sklearn.metrics.RocCurveDisplay.from_estimator`.\n",
      "  warnings.warn(msg, category=FutureWarning)\n"
     ]
    },
    {
     "data": {
      "text/plain": [
       "[]"
      ]
     },
     "execution_count": 79,
     "metadata": {},
     "output_type": "execute_result"
    },
    {
     "data": {
      "image/png": "[encoded data removed]",
      "text/plain": [
       "<Figure size 640x480 with 1 Axes>"
      ]
     },
     "metadata": {},
     "output_type": "display_data"
    }
   ],
   "source": [
    "from sklearn.metrics import plot_roc_curve\n",
    "\n",
    "plot_roc_curve(model_churn,xc_test,yc_test)\n",
    "\n",
    "plt.plot()"
   ]
  },
  {
   "cell_type": "code",
   "execution_count": 81,
   "metadata": {},
   "outputs": [
    {
     "data": {
      "text/plain": [
       "<AxesSubplot: >"
      ]
     },
     "execution_count": 81,
     "metadata": {},
     "output_type": "execute_result"
    },
    {
     "data": {
      "image/png": "[encoded data removed]",
      "text/plain": [
       "<Figure size 640x480 with 2 Axes>"
      ]
     },
     "metadata": {},
     "output_type": "display_data"
    }
   ],
   "source": [
    "from sklearn.metrics import confusion_matrix\n",
    "\n",
    "confusionmatrix=confusion_matrix(yc_test,predictions)\n",
    "\n",
    "import seaborn as sns\n",
    "\n",
    "sns.heatmap(confusionmatrix,annot=True)"
   ]
  },
  {
   "cell_type": "code",
   "execution_count": 85,
   "metadata": {},
   "outputs": [
    {
     "data": {
      "text/plain": [
       "[]"
      ]
     },
     "execution_count": 85,
     "metadata": {},
     "output_type": "execute_result"
    },
    {
     "data": {
      "image/png": "[encoded data removed]",
      "text/plain": [
       "<Figure size 640x480 with 1 Axes>"
      ]
     },
     "metadata": {},
     "output_type": "display_data"
    }
   ],
   "source": [
    "from sklearn.tree import plot_tree\n",
    "\n",
    "plot_tree(model_churn)\n",
    "\n",
    "plt.plot()"
   ]
  },
  {
   "cell_type": "code",
   "execution_count": 51,
   "metadata": {},
   "outputs": [
    {
     "data": {
      "text/plain": [
       "[]"
      ]
     },
     "execution_count": 51,
     "metadata": {},
     "output_type": "execute_result"
    },
    {
     "data": {
      "image/png": "[encoded data removed]",
      "text/plain": [
       "<Figure size 640x480 with 1 Axes>"
      ]
     },
     "metadata": {},
     "output_type": "display_data"
    }
   ],
   "source": [
    "plt.bar(xc_train.columns,model_upsell.feature_importances_)\n",
    "\n",
    "plt.plot()"
   ]
  },
  {
   "cell_type": "code",
   "execution_count": 52,
   "metadata": {},
   "outputs": [
    {
     "data": {
      "text/plain": [
       "[]"
      ]
     },
     "execution_count": 52,
     "metadata": {},
     "output_type": "execute_result"
    },
    {
     "data": {
      "image/png": "[encoded data removed]",
      "text/plain": [
       "<Figure size 640x480 with 1 Axes>"
      ]
     },
     "metadata": {},
     "output_type": "display_data"
    }
   ],
   "source": [
    "plt.bar(xc_train.columns,model_upsell.feature_importances_)\n",
    "\n",
    "plt.plot()"
   ]
  },
  {
   "cell_type": "code",
   "execution_count": 53,
   "metadata": {},
   "outputs": [],
   "source": [
    "X_test = pd.read_csv('./Data/orange_small_test.data', sep='\\t')"
   ]
  },
  {
   "cell_type": "code",
   "execution_count": 54,
   "metadata": {},
   "outputs": [],
   "source": [
    "X_test=X_test[features]"
   ]
  },
  {
   "cell_type": "code",
   "execution_count": 55,
   "metadata": {},
   "outputs": [],
   "source": [
    "X_test.dropna(inplace=True)"
   ]
  },
  {
   "cell_type": "code",
   "execution_count": 56,
   "metadata": {},
   "outputs": [],
   "source": [
    "X_test=pd.get_dummies(X_test,columns=extra_features)"
   ]
  },
  {
   "cell_type": "code",
   "execution_count": 57,
   "metadata": {},
   "outputs": [
    {
     "data": {
      "text/html": [
       "<div>\n",
       "<style scoped>\n",
       "    .dataframe tbody tr th:only-of-type {\n",
       "        vertical-align: middle;\n",
       "    }\n",
       "\n",
       "    .dataframe tbody tr th {\n",
       "        vertical-align: top;\n",
       "    }\n",
       "\n",
       "    .dataframe thead th {\n",
       "        text-align: right;\n",
       "    }\n",
       "</style>\n",
       "<table border=\"1\" class=\"dataframe\">\n",
       "  <thead>\n",
       "    <tr style=\"text-align: right;\">\n",
       "      <th></th>\n",
       "      <th>Var6</th>\n",
       "      <th>Var7</th>\n",
       "      <th>Var13</th>\n",
       "      <th>Var21</th>\n",
       "      <th>Var22</th>\n",
       "      <th>Var24</th>\n",
       "      <th>Var25</th>\n",
       "      <th>Var28</th>\n",
       "      <th>Var35</th>\n",
       "      <th>Var38</th>\n",
       "      <th>...</th>\n",
       "      <th>Var223_M_8D</th>\n",
       "      <th>Var223_bCPvVye</th>\n",
       "      <th>Var223_jySVZNlOJy</th>\n",
       "      <th>Var227_02N6s8f</th>\n",
       "      <th>Var227_6fzt</th>\n",
       "      <th>Var227_RAYp</th>\n",
       "      <th>Var227_ZI9m</th>\n",
       "      <th>Var227_nIGXDli</th>\n",
       "      <th>Var227_nIGjgSB</th>\n",
       "      <th>Var227_vJ_w8kB</th>\n",
       "    </tr>\n",
       "  </thead>\n",
       "  <tbody>\n",
       "    <tr>\n",
       "      <th>0</th>\n",
       "      <td>1225.0</td>\n",
       "      <td>7.0</td>\n",
       "      <td>100.0</td>\n",
       "      <td>156.0</td>\n",
       "      <td>195.0</td>\n",
       "      <td>0.0</td>\n",
       "      <td>72.0</td>\n",
       "      <td>166.56</td>\n",
       "      <td>0.0</td>\n",
       "      <td>4259232.0</td>\n",
       "      <td>...</td>\n",
       "      <td>0</td>\n",
       "      <td>0</td>\n",
       "      <td>0</td>\n",
       "      <td>0</td>\n",
       "      <td>0</td>\n",
       "      <td>0</td>\n",
       "      <td>1</td>\n",
       "      <td>0</td>\n",
       "      <td>0</td>\n",
       "      <td>0</td>\n",
       "    </tr>\n",
       "    <tr>\n",
       "      <th>1</th>\n",
       "      <td>259.0</td>\n",
       "      <td>0.0</td>\n",
       "      <td>0.0</td>\n",
       "      <td>192.0</td>\n",
       "      <td>240.0</td>\n",
       "      <td>0.0</td>\n",
       "      <td>40.0</td>\n",
       "      <td>300.32</td>\n",
       "      <td>5.0</td>\n",
       "      <td>4859550.0</td>\n",
       "      <td>...</td>\n",
       "      <td>0</td>\n",
       "      <td>0</td>\n",
       "      <td>0</td>\n",
       "      <td>0</td>\n",
       "      <td>0</td>\n",
       "      <td>1</td>\n",
       "      <td>0</td>\n",
       "      <td>0</td>\n",
       "      <td>0</td>\n",
       "      <td>0</td>\n",
       "    </tr>\n",
       "    <tr>\n",
       "      <th>2</th>\n",
       "      <td>861.0</td>\n",
       "      <td>14.0</td>\n",
       "      <td>236.0</td>\n",
       "      <td>32.0</td>\n",
       "      <td>40.0</td>\n",
       "      <td>0.0</td>\n",
       "      <td>8.0</td>\n",
       "      <td>186.64</td>\n",
       "      <td>0.0</td>\n",
       "      <td>10038840.0</td>\n",
       "      <td>...</td>\n",
       "      <td>0</td>\n",
       "      <td>0</td>\n",
       "      <td>0</td>\n",
       "      <td>0</td>\n",
       "      <td>0</td>\n",
       "      <td>1</td>\n",
       "      <td>0</td>\n",
       "      <td>0</td>\n",
       "      <td>0</td>\n",
       "      <td>0</td>\n",
       "    </tr>\n",
       "    <tr>\n",
       "      <th>3</th>\n",
       "      <td>1568.0</td>\n",
       "      <td>7.0</td>\n",
       "      <td>1232.0</td>\n",
       "      <td>448.0</td>\n",
       "      <td>560.0</td>\n",
       "      <td>4.0</td>\n",
       "      <td>88.0</td>\n",
       "      <td>166.56</td>\n",
       "      <td>0.0</td>\n",
       "      <td>116760.0</td>\n",
       "      <td>...</td>\n",
       "      <td>0</td>\n",
       "      <td>0</td>\n",
       "      <td>0</td>\n",
       "      <td>0</td>\n",
       "      <td>0</td>\n",
       "      <td>1</td>\n",
       "      <td>0</td>\n",
       "      <td>0</td>\n",
       "      <td>0</td>\n",
       "      <td>0</td>\n",
       "    </tr>\n",
       "    <tr>\n",
       "      <th>4</th>\n",
       "      <td>1197.0</td>\n",
       "      <td>7.0</td>\n",
       "      <td>204.0</td>\n",
       "      <td>100.0</td>\n",
       "      <td>125.0</td>\n",
       "      <td>8.0</td>\n",
       "      <td>40.0</td>\n",
       "      <td>133.12</td>\n",
       "      <td>0.0</td>\n",
       "      <td>257772.0</td>\n",
       "      <td>...</td>\n",
       "      <td>0</td>\n",
       "      <td>0</td>\n",
       "      <td>0</td>\n",
       "      <td>0</td>\n",
       "      <td>0</td>\n",
       "      <td>0</td>\n",
       "      <td>1</td>\n",
       "      <td>0</td>\n",
       "      <td>0</td>\n",
       "      <td>0</td>\n",
       "    </tr>\n",
       "  </tbody>\n",
       "</table>\n",
       "<p>5 rows × 79 columns</p>\n",
       "</div>"
      ],
      "text/plain": [
       "     Var6  Var7   Var13  Var21  Var22  Var24  Var25   Var28  Var35  \\\n",
       "0  1225.0   7.0   100.0  156.0  195.0    0.0   72.0  166.56    0.0   \n",
       "1   259.0   0.0     0.0  192.0  240.0    0.0   40.0  300.32    5.0   \n",
       "2   861.0  14.0   236.0   32.0   40.0    0.0    8.0  186.64    0.0   \n",
       "3  1568.0   7.0  1232.0  448.0  560.0    4.0   88.0  166.56    0.0   \n",
       "4  1197.0   7.0   204.0  100.0  125.0    8.0   40.0  133.12    0.0   \n",
       "\n",
       "        Var38  ...  Var223_M_8D  Var223_bCPvVye  Var223_jySVZNlOJy  \\\n",
       "0   4259232.0  ...            0               0                  0   \n",
       "1   4859550.0  ...            0               0                  0   \n",
       "2  10038840.0  ...            0               0                  0   \n",
       "3    116760.0  ...            0               0                  0   \n",
       "4    257772.0  ...            0               0                  0   \n",
       "\n",
       "   Var227_02N6s8f  Var227_6fzt  Var227_RAYp  Var227_ZI9m  Var227_nIGXDli  \\\n",
       "0               0            0            0            1               0   \n",
       "1               0            0            1            0               0   \n",
       "2               0            0            1            0               0   \n",
       "3               0            0            1            0               0   \n",
       "4               0            0            0            1               0   \n",
       "\n",
       "   Var227_nIGjgSB  Var227_vJ_w8kB  \n",
       "0               0               0  \n",
       "1               0               0  \n",
       "2               0               0  \n",
       "3               0               0  \n",
       "4               0               0  \n",
       "\n",
       "[5 rows x 79 columns]"
      ]
     },
     "execution_count": 57,
     "metadata": {},
     "output_type": "execute_result"
    }
   ],
   "source": [
    "X_test.head()"
   ]
  },
  {
   "cell_type": "code",
   "execution_count": 58,
   "metadata": {},
   "outputs": [
    {
     "name": "stderr",
     "output_type": "stream",
     "text": [
      "C:\\Users\\chinm\\AppData\\Local\\Programs\\Python\\Python310\\lib\\site-packages\\sklearn\\base.py:493: FutureWarning: The feature names should match those that were passed during fit. Starting version 1.2, an error will be raised.\n",
      "Feature names unseen at fit time:\n",
      "- Var210_eyPI\n",
      "Feature names seen at fit time, yet now missing:\n",
      "- Var203_pybr\n",
      "- Var210_oT7d\n",
      "\n",
      "  warnings.warn(message, FutureWarning)\n"
     ]
    },
    {
     "ename": "ValueError",
     "evalue": "X has 79 features, but DecisionTreeClassifier is expecting 80 features as input.",
     "output_type": "error",
     "traceback": [
      "\u001b[1;31m---------------------------------------------------------------------------\u001b[0m",
      "\u001b[1;31mValueError\u001b[0m                                Traceback (most recent call last)",
      "Cell \u001b[1;32mIn [58], line 1\u001b[0m\n\u001b[1;32m----> 1\u001b[0m PREDICTIONS_CHURN\u001b[38;5;241m=\u001b[39mmodel_churn\u001b[38;5;241m.\u001b[39mpredict(X_test)\n\u001b[0;32m      2\u001b[0m PREDICTIONS_UPSELL\u001b[38;5;241m=\u001b[39mmodel_upsell\u001b[38;5;241m.\u001b[39mpredict(X_test)\n\u001b[0;32m      3\u001b[0m PREDICTIONS_APT\u001b[38;5;241m=\u001b[39mmodel_apt\u001b[38;5;241m.\u001b[39mpredict(X_test)\n",
      "File \u001b[1;32m~\\AppData\\Local\\Programs\\Python\\Python310\\lib\\site-packages\\sklearn\\tree\\_classes.py:505\u001b[0m, in \u001b[0;36mBaseDecisionTree.predict\u001b[1;34m(self, X, check_input)\u001b[0m\n\u001b[0;32m    482\u001b[0m \u001b[38;5;124;03m\"\"\"Predict class or regression value for X.\u001b[39;00m\n\u001b[0;32m    483\u001b[0m \n\u001b[0;32m    484\u001b[0m \u001b[38;5;124;03mFor a classification model, the predicted class for each sample in X is\u001b[39;00m\n\u001b[1;32m   (...)\u001b[0m\n\u001b[0;32m    502\u001b[0m \u001b[38;5;124;03m    The predicted classes, or the predict values.\u001b[39;00m\n\u001b[0;32m    503\u001b[0m \u001b[38;5;124;03m\"\"\"\u001b[39;00m\n\u001b[0;32m    504\u001b[0m check_is_fitted(\u001b[38;5;28mself\u001b[39m)\n\u001b[1;32m--> 505\u001b[0m X \u001b[38;5;241m=\u001b[39m \u001b[38;5;28;43mself\u001b[39;49m\u001b[38;5;241;43m.\u001b[39;49m\u001b[43m_validate_X_predict\u001b[49m\u001b[43m(\u001b[49m\u001b[43mX\u001b[49m\u001b[43m,\u001b[49m\u001b[43m \u001b[49m\u001b[43mcheck_input\u001b[49m\u001b[43m)\u001b[49m\n\u001b[0;32m    506\u001b[0m proba \u001b[38;5;241m=\u001b[39m \u001b[38;5;28mself\u001b[39m\u001b[38;5;241m.\u001b[39mtree_\u001b[38;5;241m.\u001b[39mpredict(X)\n\u001b[0;32m    507\u001b[0m n_samples \u001b[38;5;241m=\u001b[39m X\u001b[38;5;241m.\u001b[39mshape[\u001b[38;5;241m0\u001b[39m]\n",
      "File \u001b[1;32m~\\AppData\\Local\\Programs\\Python\\Python310\\lib\\site-packages\\sklearn\\tree\\_classes.py:471\u001b[0m, in \u001b[0;36mBaseDecisionTree._validate_X_predict\u001b[1;34m(self, X, check_input)\u001b[0m\n\u001b[0;32m    469\u001b[0m \u001b[38;5;124;03m\"\"\"Validate the training data on predict (probabilities).\"\"\"\u001b[39;00m\n\u001b[0;32m    470\u001b[0m \u001b[38;5;28;01mif\u001b[39;00m check_input:\n\u001b[1;32m--> 471\u001b[0m     X \u001b[38;5;241m=\u001b[39m \u001b[38;5;28;43mself\u001b[39;49m\u001b[38;5;241;43m.\u001b[39;49m\u001b[43m_validate_data\u001b[49m\u001b[43m(\u001b[49m\u001b[43mX\u001b[49m\u001b[43m,\u001b[49m\u001b[43m \u001b[49m\u001b[43mdtype\u001b[49m\u001b[38;5;241;43m=\u001b[39;49m\u001b[43mDTYPE\u001b[49m\u001b[43m,\u001b[49m\u001b[43m \u001b[49m\u001b[43maccept_sparse\u001b[49m\u001b[38;5;241;43m=\u001b[39;49m\u001b[38;5;124;43m\"\u001b[39;49m\u001b[38;5;124;43mcsr\u001b[39;49m\u001b[38;5;124;43m\"\u001b[39;49m\u001b[43m,\u001b[49m\u001b[43m \u001b[49m\u001b[43mreset\u001b[49m\u001b[38;5;241;43m=\u001b[39;49m\u001b[38;5;28;43;01mFalse\u001b[39;49;00m\u001b[43m)\u001b[49m\n\u001b[0;32m    472\u001b[0m     \u001b[38;5;28;01mif\u001b[39;00m issparse(X) \u001b[38;5;129;01mand\u001b[39;00m (\n\u001b[0;32m    473\u001b[0m         X\u001b[38;5;241m.\u001b[39mindices\u001b[38;5;241m.\u001b[39mdtype \u001b[38;5;241m!=\u001b[39m np\u001b[38;5;241m.\u001b[39mintc \u001b[38;5;129;01mor\u001b[39;00m X\u001b[38;5;241m.\u001b[39mindptr\u001b[38;5;241m.\u001b[39mdtype \u001b[38;5;241m!=\u001b[39m np\u001b[38;5;241m.\u001b[39mintc\n\u001b[0;32m    474\u001b[0m     ):\n\u001b[0;32m    475\u001b[0m         \u001b[38;5;28;01mraise\u001b[39;00m \u001b[38;5;167;01mValueError\u001b[39;00m(\u001b[38;5;124m\"\u001b[39m\u001b[38;5;124mNo support for np.int64 index based sparse matrices\u001b[39m\u001b[38;5;124m\"\u001b[39m)\n",
      "File \u001b[1;32m~\\AppData\\Local\\Programs\\Python\\Python310\\lib\\site-packages\\sklearn\\base.py:600\u001b[0m, in \u001b[0;36mBaseEstimator._validate_data\u001b[1;34m(self, X, y, reset, validate_separately, **check_params)\u001b[0m\n\u001b[0;32m    597\u001b[0m     out \u001b[38;5;241m=\u001b[39m X, y\n\u001b[0;32m    599\u001b[0m \u001b[38;5;28;01mif\u001b[39;00m \u001b[38;5;129;01mnot\u001b[39;00m no_val_X \u001b[38;5;129;01mand\u001b[39;00m check_params\u001b[38;5;241m.\u001b[39mget(\u001b[38;5;124m\"\u001b[39m\u001b[38;5;124mensure_2d\u001b[39m\u001b[38;5;124m\"\u001b[39m, \u001b[38;5;28;01mTrue\u001b[39;00m):\n\u001b[1;32m--> 600\u001b[0m     \u001b[38;5;28;43mself\u001b[39;49m\u001b[38;5;241;43m.\u001b[39;49m\u001b[43m_check_n_features\u001b[49m\u001b[43m(\u001b[49m\u001b[43mX\u001b[49m\u001b[43m,\u001b[49m\u001b[43m \u001b[49m\u001b[43mreset\u001b[49m\u001b[38;5;241;43m=\u001b[39;49m\u001b[43mreset\u001b[49m\u001b[43m)\u001b[49m\n\u001b[0;32m    602\u001b[0m \u001b[38;5;28;01mreturn\u001b[39;00m out\n",
      "File \u001b[1;32m~\\AppData\\Local\\Programs\\Python\\Python310\\lib\\site-packages\\sklearn\\base.py:400\u001b[0m, in \u001b[0;36mBaseEstimator._check_n_features\u001b[1;34m(self, X, reset)\u001b[0m\n\u001b[0;32m    397\u001b[0m     \u001b[38;5;28;01mreturn\u001b[39;00m\n\u001b[0;32m    399\u001b[0m \u001b[38;5;28;01mif\u001b[39;00m n_features \u001b[38;5;241m!=\u001b[39m \u001b[38;5;28mself\u001b[39m\u001b[38;5;241m.\u001b[39mn_features_in_:\n\u001b[1;32m--> 400\u001b[0m     \u001b[38;5;28;01mraise\u001b[39;00m \u001b[38;5;167;01mValueError\u001b[39;00m(\n\u001b[0;32m    401\u001b[0m         \u001b[38;5;124mf\u001b[39m\u001b[38;5;124m\"\u001b[39m\u001b[38;5;124mX has \u001b[39m\u001b[38;5;132;01m{\u001b[39;00mn_features\u001b[38;5;132;01m}\u001b[39;00m\u001b[38;5;124m features, but \u001b[39m\u001b[38;5;132;01m{\u001b[39;00m\u001b[38;5;28mself\u001b[39m\u001b[38;5;241m.\u001b[39m\u001b[38;5;18m__class__\u001b[39m\u001b[38;5;241m.\u001b[39m\u001b[38;5;18m__name__\u001b[39m\u001b[38;5;132;01m}\u001b[39;00m\u001b[38;5;124m \u001b[39m\u001b[38;5;124m\"\u001b[39m\n\u001b[0;32m    402\u001b[0m         \u001b[38;5;124mf\u001b[39m\u001b[38;5;124m\"\u001b[39m\u001b[38;5;124mis expecting \u001b[39m\u001b[38;5;132;01m{\u001b[39;00m\u001b[38;5;28mself\u001b[39m\u001b[38;5;241m.\u001b[39mn_features_in_\u001b[38;5;132;01m}\u001b[39;00m\u001b[38;5;124m features as input.\u001b[39m\u001b[38;5;124m\"\u001b[39m\n\u001b[0;32m    403\u001b[0m     )\n",
      "\u001b[1;31mValueError\u001b[0m: X has 79 features, but DecisionTreeClassifier is expecting 80 features as input."
     ]
    }
   ],
   "source": [
    "PREDICTIONS_CHURN=model_churn.predict(X_test)\n",
    "PREDICTIONS_UPSELL=model_upsell.predict(X_test)\n",
    "PREDICTIONS_APT=model_apt.predict(X_test)"
   ]
  },
  {
   "cell_type": "code",
   "execution_count": 59,
   "metadata": {},
   "outputs": [],
   "source": [
    "csdv=np.zeros(shape=len(X_test))"
   ]
  },
  {
   "cell_type": "code",
   "execution_count": 60,
   "metadata": {},
   "outputs": [],
   "source": [
    "X_test['Var203_pybr']=csdv\n",
    "X_test['Var210_oT7d']=csdv"
   ]
  },
  {
   "cell_type": "code",
   "execution_count": 61,
   "metadata": {},
   "outputs": [],
   "source": [
    "X_test=X_test.drop(columns=['Var210_eyPI'])"
   ]
  },
  {
   "cell_type": "code",
   "execution_count": 62,
   "metadata": {},
   "outputs": [
    {
     "data": {
      "text/html": [
       "<div>\n",
       "<style scoped>\n",
       "    .dataframe tbody tr th:only-of-type {\n",
       "        vertical-align: middle;\n",
       "    }\n",
       "\n",
       "    .dataframe tbody tr th {\n",
       "        vertical-align: top;\n",
       "    }\n",
       "\n",
       "    .dataframe thead th {\n",
       "        text-align: right;\n",
       "    }\n",
       "</style>\n",
       "<table border=\"1\" class=\"dataframe\">\n",
       "  <thead>\n",
       "    <tr style=\"text-align: right;\">\n",
       "      <th></th>\n",
       "      <th>Var6</th>\n",
       "      <th>Var7</th>\n",
       "      <th>Var13</th>\n",
       "      <th>Var21</th>\n",
       "      <th>Var22</th>\n",
       "      <th>Var24</th>\n",
       "      <th>Var25</th>\n",
       "      <th>Var28</th>\n",
       "      <th>Var35</th>\n",
       "      <th>Var38</th>\n",
       "      <th>...</th>\n",
       "      <th>Var223_jySVZNlOJy</th>\n",
       "      <th>Var227_02N6s8f</th>\n",
       "      <th>Var227_6fzt</th>\n",
       "      <th>Var227_RAYp</th>\n",
       "      <th>Var227_ZI9m</th>\n",
       "      <th>Var227_nIGXDli</th>\n",
       "      <th>Var227_nIGjgSB</th>\n",
       "      <th>Var227_vJ_w8kB</th>\n",
       "      <th>Var203_pybr</th>\n",
       "      <th>Var210_oT7d</th>\n",
       "    </tr>\n",
       "  </thead>\n",
       "  <tbody>\n",
       "    <tr>\n",
       "      <th>0</th>\n",
       "      <td>1225.0</td>\n",
       "      <td>7.0</td>\n",
       "      <td>100.0</td>\n",
       "      <td>156.0</td>\n",
       "      <td>195.0</td>\n",
       "      <td>0.0</td>\n",
       "      <td>72.0</td>\n",
       "      <td>166.56</td>\n",
       "      <td>0.0</td>\n",
       "      <td>4259232.0</td>\n",
       "      <td>...</td>\n",
       "      <td>0</td>\n",
       "      <td>0</td>\n",
       "      <td>0</td>\n",
       "      <td>0</td>\n",
       "      <td>1</td>\n",
       "      <td>0</td>\n",
       "      <td>0</td>\n",
       "      <td>0</td>\n",
       "      <td>0.0</td>\n",
       "      <td>0.0</td>\n",
       "    </tr>\n",
       "    <tr>\n",
       "      <th>1</th>\n",
       "      <td>259.0</td>\n",
       "      <td>0.0</td>\n",
       "      <td>0.0</td>\n",
       "      <td>192.0</td>\n",
       "      <td>240.0</td>\n",
       "      <td>0.0</td>\n",
       "      <td>40.0</td>\n",
       "      <td>300.32</td>\n",
       "      <td>5.0</td>\n",
       "      <td>4859550.0</td>\n",
       "      <td>...</td>\n",
       "      <td>0</td>\n",
       "      <td>0</td>\n",
       "      <td>0</td>\n",
       "      <td>1</td>\n",
       "      <td>0</td>\n",
       "      <td>0</td>\n",
       "      <td>0</td>\n",
       "      <td>0</td>\n",
       "      <td>0.0</td>\n",
       "      <td>0.0</td>\n",
       "    </tr>\n",
       "    <tr>\n",
       "      <th>2</th>\n",
       "      <td>861.0</td>\n",
       "      <td>14.0</td>\n",
       "      <td>236.0</td>\n",
       "      <td>32.0</td>\n",
       "      <td>40.0</td>\n",
       "      <td>0.0</td>\n",
       "      <td>8.0</td>\n",
       "      <td>186.64</td>\n",
       "      <td>0.0</td>\n",
       "      <td>10038840.0</td>\n",
       "      <td>...</td>\n",
       "      <td>0</td>\n",
       "      <td>0</td>\n",
       "      <td>0</td>\n",
       "      <td>1</td>\n",
       "      <td>0</td>\n",
       "      <td>0</td>\n",
       "      <td>0</td>\n",
       "      <td>0</td>\n",
       "      <td>0.0</td>\n",
       "      <td>0.0</td>\n",
       "    </tr>\n",
       "    <tr>\n",
       "      <th>3</th>\n",
       "      <td>1568.0</td>\n",
       "      <td>7.0</td>\n",
       "      <td>1232.0</td>\n",
       "      <td>448.0</td>\n",
       "      <td>560.0</td>\n",
       "      <td>4.0</td>\n",
       "      <td>88.0</td>\n",
       "      <td>166.56</td>\n",
       "      <td>0.0</td>\n",
       "      <td>116760.0</td>\n",
       "      <td>...</td>\n",
       "      <td>0</td>\n",
       "      <td>0</td>\n",
       "      <td>0</td>\n",
       "      <td>1</td>\n",
       "      <td>0</td>\n",
       "      <td>0</td>\n",
       "      <td>0</td>\n",
       "      <td>0</td>\n",
       "      <td>0.0</td>\n",
       "      <td>0.0</td>\n",
       "    </tr>\n",
       "    <tr>\n",
       "      <th>4</th>\n",
       "      <td>1197.0</td>\n",
       "      <td>7.0</td>\n",
       "      <td>204.0</td>\n",
       "      <td>100.0</td>\n",
       "      <td>125.0</td>\n",
       "      <td>8.0</td>\n",
       "      <td>40.0</td>\n",
       "      <td>133.12</td>\n",
       "      <td>0.0</td>\n",
       "      <td>257772.0</td>\n",
       "      <td>...</td>\n",
       "      <td>0</td>\n",
       "      <td>0</td>\n",
       "      <td>0</td>\n",
       "      <td>0</td>\n",
       "      <td>1</td>\n",
       "      <td>0</td>\n",
       "      <td>0</td>\n",
       "      <td>0</td>\n",
       "      <td>0.0</td>\n",
       "      <td>0.0</td>\n",
       "    </tr>\n",
       "  </tbody>\n",
       "</table>\n",
       "<p>5 rows × 80 columns</p>\n",
       "</div>"
      ],
      "text/plain": [
       "     Var6  Var7   Var13  Var21  Var22  Var24  Var25   Var28  Var35  \\\n",
       "0  1225.0   7.0   100.0  156.0  195.0    0.0   72.0  166.56    0.0   \n",
       "1   259.0   0.0     0.0  192.0  240.0    0.0   40.0  300.32    5.0   \n",
       "2   861.0  14.0   236.0   32.0   40.0    0.0    8.0  186.64    0.0   \n",
       "3  1568.0   7.0  1232.0  448.0  560.0    4.0   88.0  166.56    0.0   \n",
       "4  1197.0   7.0   204.0  100.0  125.0    8.0   40.0  133.12    0.0   \n",
       "\n",
       "        Var38  ...  Var223_jySVZNlOJy  Var227_02N6s8f  Var227_6fzt  \\\n",
       "0   4259232.0  ...                  0               0            0   \n",
       "1   4859550.0  ...                  0               0            0   \n",
       "2  10038840.0  ...                  0               0            0   \n",
       "3    116760.0  ...                  0               0            0   \n",
       "4    257772.0  ...                  0               0            0   \n",
       "\n",
       "   Var227_RAYp  Var227_ZI9m  Var227_nIGXDli  Var227_nIGjgSB  Var227_vJ_w8kB  \\\n",
       "0            0            1               0               0               0   \n",
       "1            1            0               0               0               0   \n",
       "2            1            0               0               0               0   \n",
       "3            1            0               0               0               0   \n",
       "4            0            1               0               0               0   \n",
       "\n",
       "   Var203_pybr  Var210_oT7d  \n",
       "0          0.0          0.0  \n",
       "1          0.0          0.0  \n",
       "2          0.0          0.0  \n",
       "3          0.0          0.0  \n",
       "4          0.0          0.0  \n",
       "\n",
       "[5 rows x 80 columns]"
      ]
     },
     "execution_count": 62,
     "metadata": {},
     "output_type": "execute_result"
    }
   ],
   "source": [
    "X_test.head()"
   ]
  },
  {
   "cell_type": "code",
   "execution_count": 63,
   "metadata": {},
   "outputs": [
    {
     "name": "stderr",
     "output_type": "stream",
     "text": [
      "C:\\Users\\chinm\\AppData\\Local\\Programs\\Python\\Python310\\lib\\site-packages\\sklearn\\base.py:493: FutureWarning: The feature names should match those that were passed during fit. Starting version 1.2, an error will be raised.\n",
      "Feature names must be in the same order as they were in fit.\n",
      "\n",
      "  warnings.warn(message, FutureWarning)\n",
      "C:\\Users\\chinm\\AppData\\Local\\Programs\\Python\\Python310\\lib\\site-packages\\sklearn\\base.py:493: FutureWarning: The feature names should match those that were passed during fit. Starting version 1.2, an error will be raised.\n",
      "Feature names must be in the same order as they were in fit.\n",
      "\n",
      "  warnings.warn(message, FutureWarning)\n",
      "C:\\Users\\chinm\\AppData\\Local\\Programs\\Python\\Python310\\lib\\site-packages\\sklearn\\base.py:493: FutureWarning: The feature names should match those that were passed during fit. Starting version 1.2, an error will be raised.\n",
      "Feature names must be in the same order as they were in fit.\n",
      "\n",
      "  warnings.warn(message, FutureWarning)\n"
     ]
    }
   ],
   "source": [
    "PREDICTIONS_CHURN=model_churn.predict(X_test)\n",
    "PREDICTIONS_UPSELL=model_upsell.predict(X_test)\n",
    "PREDICTIONS_APT=model_apt.predict(X_test)"
   ]
  }
 ],
 "metadata": {
  "kernelspec": {
   "display_name": "Python 3 (ipykernel)",
   "language": "python",
   "name": "python3"
  },
  "language_info": {
   "codemirror_mode": {
    "name": "ipython",
    "version": 3
   },
   "file_extension": ".py",
   "mimetype": "text/x-python",
   "name": "python",
   "nbconvert_exporter": "python",
   "pygments_lexer": "ipython3",
   "version": "3.10.5"
  }
 },
 "nbformat": 4,
 "nbformat_minor": 1
}
