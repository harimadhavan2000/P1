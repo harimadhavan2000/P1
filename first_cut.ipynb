{
 "cells": [
  {
   "cell_type": "code",
   "execution_count": 90,
   "outputs": [],
   "source": [
    "import numpy as np\n",
    "\n"
   ],
   "metadata": {
    "collapsed": false,
    "pycharm": {
     "name": "#%%\n"
    }
   }
  },
  {
   "cell_type": "code",
   "execution_count": 25,
   "outputs": [
    {
     "name": "stdout",
     "output_type": "stream",
     "text": [
      "Archive:  ./Data/orange_small_test.data.zip\r\n",
      "  inflating: orange_small_test.data  \r\n",
      " extracting: orange_small_test.data.cksum  \r\n",
      "Archive:  ./Data/orange_small_train.data.zip\r\n",
      "  inflating: orange_small_train.data  \r\n",
      " extracting: orange_small_train.data.cksum  \r\n"
     ]
    }
   ],
   "source": [
    "\n",
    "!unzip./ Data / orange_small_test.data.zip\n",
    "!unzip./ Data / orange_small_train.data.zip"
   ],
   "metadata": {
    "collapsed": false,
    "pycharm": {
     "name": "#%%\n"
    }
   }
  },
  {
   "cell_type": "code",
   "execution_count": 147,
   "outputs": [],
   "source": [
    "import pandas as pd"
   ],
   "metadata": {
    "collapsed": false,
    "pycharm": {
     "name": "#%%\n"
    }
   }
  },
  {
   "cell_type": "code",
   "execution_count": 158,
   "outputs": [],
   "source": [
    "X_train = pd.read_csv('./Data/orange_small_train.data', sep='\\t')\n",
    "X_test = pd.read_csv('./Data/orange_small_test.data', sep='\\t')\n",
    "y_train_churn = pd.read_csv('./Data/orange_small_train_churn.labels.txt',header=None)\n",
    "y_train_apt = pd.read_csv('./Data/orange_small_train_appetency.labels',header=None)\n",
    "y_train_upsell = pd.read_csv('./Data/orange_small_train_upselling.labels',header=None)"
   ],
   "metadata": {
    "collapsed": false,
    "pycharm": {
     "name": "#%%\n"
    }
   }
  },
  {
   "cell_type": "code",
   "execution_count": 159,
   "outputs": [
    {
     "data": {
      "text/plain": "((50000, 230), (50000, 230))"
     },
     "execution_count": 159,
     "metadata": {},
     "output_type": "execute_result"
    }
   ],
   "source": [
    "X_train.shape, X_test.shape"
   ],
   "metadata": {
    "collapsed": false,
    "pycharm": {
     "name": "#%%\n"
    }
   }
  },
  {
   "cell_type": "code",
   "execution_count": 160,
   "outputs": [
    {
     "data": {
      "text/plain": "((50000, 1), (50000, 1), (50000, 1))"
     },
     "execution_count": 160,
     "metadata": {},
     "output_type": "execute_result"
    }
   ],
   "source": [
    "y_train_apt.shape, y_train_churn.shape, y_train_upsell.shape"
   ],
   "metadata": {
    "collapsed": false,
    "pycharm": {
     "name": "#%%\n"
    }
   }
  },
  {
   "cell_type": "code",
   "execution_count": 161,
   "outputs": [
    {
     "data": {
      "text/plain": "(-1    0.9822\n  1    0.0178\n dtype: float64,\n -1    0.92656\n  1    0.07344\n dtype: float64,\n -1    0.92636\n  1    0.07364\n dtype: float64)"
     },
     "execution_count": 161,
     "metadata": {},
     "output_type": "execute_result"
    }
   ],
   "source": [
    "y_train_apt.value_counts(normalize=True), y_train_churn.value_counts(normalize=True), y_train_upsell.value_counts(\n",
    "    normalize=True)"
   ],
   "metadata": {
    "collapsed": false,
    "pycharm": {
     "name": "#%%\n"
    }
   }
  },
  {
   "cell_type": "code",
   "execution_count": 165,
   "outputs": [
    {
     "data": {
      "text/plain": "40001"
     },
     "execution_count": 165,
     "metadata": {},
     "output_type": "execute_result"
    }
   ],
   "source": [
    "# dropping any column with missing value\n",
    "\n",
    "# collect minimum no of records to be present value for data\n",
    "# using data with high percentage of missing records makes bad training set and will induce a high variance in the model predictions\n",
    "missing_perc = 20\n",
    "min_count = int(((100 - missing_perc) / 100) * X_train.shape[0] + 1)\n",
    "min_count"
   ],
   "metadata": {
    "collapsed": false,
    "pycharm": {
     "name": "#%%\n"
    }
   }
  },
  {
   "cell_type": "markdown",
   "source": [
    "### Feature engineering"
   ],
   "metadata": {
    "collapsed": false,
    "pycharm": {
     "name": "#%% md\n"
    }
   }
  },
  {
   "cell_type": "code",
   "execution_count": 166,
   "outputs": [],
   "source": [
    "#drop all missing and only continous variable\n",
    "prefered_uniques = 10\n",
    "# create a list of numeric values and less than prefered uniques categorical columns\n",
    "fe_unique_columns = list(X_train.select_dtypes(include='number').columns) + list(\n",
    "    (X_train.select_dtypes(include='object').nunique() < prefered_uniques).index[\n",
    "        X_train.select_dtypes(include='object').nunique() < prefered_uniques])\n",
    "# collect only numeric features\n",
    "X_train_all_missing_drop_continous = X_train.dropna( axis=1,thresh=min_count).dropna(axis=0).select_dtypes(include=['number'])#.agg(['nunique','count'])\n",
    "numeric_col_after_drop = X_train_all_missing_drop_continous.columns\n",
    "# create X_train with categorical variables with less than 10 uniques\n",
    "X_train_all_missing_dropped_prefered_unique_cat = X_train[fe_unique_columns].dropna( axis=1,thresh=min_count).dropna(axis=0)\n",
    "feature_prefered_columns = list(X_train_all_missing_dropped_prefered_unique_cat.columns)\n",
    "# creating dummy variables for the data with  categorical variables\n",
    "X_train_encoded = pd.get_dummies(X_train_all_missing_dropped_prefered_unique_cat,drop_first=True)\n",
    "X_train_numeric = X_train_all_missing_drop_continous\n",
    "del X_train_all_missing_drop_continous\n",
    "# selecting X_test with the appropriate predictors for numeric predictors and selected unique threshold for category inclusion in predictors\n",
    "X_test_numeric = X_test[numeric_col_after_drop]\n",
    "X_test_encoded = pd.get_dummies(X_test[feature_prefered_columns],drop_first=True)[X_train_encoded.columns]\n"
   ],
   "metadata": {
    "collapsed": false,
    "pycharm": {
     "name": "#%%\n"
    }
   }
  },
  {
   "cell_type": "code",
   "execution_count": 167,
   "outputs": [
    {
     "data": {
      "text/plain": "((36827, 68), (50000, 68))"
     },
     "execution_count": 167,
     "metadata": {},
     "output_type": "execute_result"
    }
   ],
   "source": [
    "X_train_encoded.shape, X_test_encoded.shape#.columns"
   ],
   "metadata": {
    "collapsed": false,
    "pycharm": {
     "name": "#%%\n"
    }
   }
  },
  {
   "cell_type": "code",
   "execution_count": 168,
   "outputs": [
    {
     "data": {
      "text/plain": "(50000, 68)"
     },
     "execution_count": 168,
     "metadata": {},
     "output_type": "execute_result"
    }
   ],
   "source": [
    "X_test_encoded.shape"
   ],
   "metadata": {
    "collapsed": false,
    "pycharm": {
     "name": "#%%\n"
    }
   }
  },
  {
   "cell_type": "code",
   "execution_count": 132,
   "outputs": [
    {
     "data": {
      "text/plain": "         Var6  Var7   Var13   Var21   Var22  Var24  Var25   Var28  Var35  \\\n0      1526.0   7.0   184.0   464.0   580.0   14.0  128.0  166.56    0.0   \n2      5236.0   7.0   904.0  1212.0  1515.0   26.0  816.0  220.08    0.0   \n4      1029.0   7.0  3216.0    64.0    80.0    4.0   64.0  200.00    0.0   \n5       658.0   7.0  3156.0   224.0   280.0    2.0   72.0  200.00    5.0   \n6      1680.0   7.0  2952.0   308.0   385.0    4.0  128.0  176.56    0.0   \n...       ...   ...     ...     ...     ...    ...    ...     ...    ...   \n49994   266.0   0.0     0.0   792.0   990.0   18.0  432.0  336.56    0.0   \n49995   357.0   0.0     0.0   132.0   165.0    2.0    0.0  288.08    0.0   \n49996  1078.0   0.0  2736.0   380.0   475.0    2.0   88.0  166.56    0.0   \n49997  2807.0   7.0  1460.0   568.0   710.0    4.0  328.0  166.56    0.0   \n49999  1694.0   7.0   828.0   192.0   240.0    0.0   48.0  220.08    5.0   \n\n           Var38  ...    Var134  Var140  Var143  Var144    Var149      Var153  \\\n0         3570.0  ...   69134.0   185.0     0.0     9.0  397579.0   1812252.0   \n2      5883894.0  ...  248932.0   800.0     0.0    36.0  320565.0   9826360.0   \n4            0.0  ...   66046.0  3255.0     0.0     9.0  267162.0    644836.0   \n5            0.0  ...   43684.0   355.0     0.0     9.0    2639.0    745620.0   \n6        13158.0  ...  104978.0  1665.0     0.0    18.0   47019.0   2345424.0   \n...          ...  ...       ...     ...     ...     ...       ...         ...   \n49994  2214786.0  ...  227884.0     0.0     0.0     0.0   26159.0   3640968.0   \n49995  6042420.0  ...       0.0     0.0     0.0     9.0  604800.0  10367040.0   \n49996        0.0  ...   39652.0     0.0     0.0     9.0   85120.0   1344900.0   \n49997    42210.0  ...  131588.0   675.0     0.0    27.0    4410.0   1242044.0   \n49999  2691228.0  ...   95728.0  3350.0     0.0    18.0       0.0  10679800.0   \n\n       Var160    Var163  Var173  Var181  \n0       142.0   38418.0     0.0     0.0  \n2       206.0  434946.0     0.0     0.0  \n4         2.0       0.0     0.0     0.0  \n5        68.0   61368.0     0.0     0.0  \n6        52.0  417438.0     0.0     0.0  \n...       ...       ...     ...     ...  \n49994   104.0  138432.0     0.0     0.0  \n49995    22.0       0.0     0.0     0.0  \n49996   150.0    9540.0     0.0     0.0  \n49997   124.0   61734.0     0.0     0.0  \n49999    50.0  165270.0     0.0     0.0  \n\n[36730 rows x 38 columns]",
      "text/html": "<div>\n<style scoped>\n    .dataframe tbody tr th:only-of-type {\n        vertical-align: middle;\n    }\n\n    .dataframe tbody tr th {\n        vertical-align: top;\n    }\n\n    .dataframe thead th {\n        text-align: right;\n    }\n</style>\n<table border=\"1\" class=\"dataframe\">\n  <thead>\n    <tr style=\"text-align: right;\">\n      <th></th>\n      <th>Var6</th>\n      <th>Var7</th>\n      <th>Var13</th>\n      <th>Var21</th>\n      <th>Var22</th>\n      <th>Var24</th>\n      <th>Var25</th>\n      <th>Var28</th>\n      <th>Var35</th>\n      <th>Var38</th>\n      <th>...</th>\n      <th>Var134</th>\n      <th>Var140</th>\n      <th>Var143</th>\n      <th>Var144</th>\n      <th>Var149</th>\n      <th>Var153</th>\n      <th>Var160</th>\n      <th>Var163</th>\n      <th>Var173</th>\n      <th>Var181</th>\n    </tr>\n  </thead>\n  <tbody>\n    <tr>\n      <th>0</th>\n      <td>1526.0</td>\n      <td>7.0</td>\n      <td>184.0</td>\n      <td>464.0</td>\n      <td>580.0</td>\n      <td>14.0</td>\n      <td>128.0</td>\n      <td>166.56</td>\n      <td>0.0</td>\n      <td>3570.0</td>\n      <td>...</td>\n      <td>69134.0</td>\n      <td>185.0</td>\n      <td>0.0</td>\n      <td>9.0</td>\n      <td>397579.0</td>\n      <td>1812252.0</td>\n      <td>142.0</td>\n      <td>38418.0</td>\n      <td>0.0</td>\n      <td>0.0</td>\n    </tr>\n    <tr>\n      <th>2</th>\n      <td>5236.0</td>\n      <td>7.0</td>\n      <td>904.0</td>\n      <td>1212.0</td>\n      <td>1515.0</td>\n      <td>26.0</td>\n      <td>816.0</td>\n      <td>220.08</td>\n      <td>0.0</td>\n      <td>5883894.0</td>\n      <td>...</td>\n      <td>248932.0</td>\n      <td>800.0</td>\n      <td>0.0</td>\n      <td>36.0</td>\n      <td>320565.0</td>\n      <td>9826360.0</td>\n      <td>206.0</td>\n      <td>434946.0</td>\n      <td>0.0</td>\n      <td>0.0</td>\n    </tr>\n    <tr>\n      <th>4</th>\n      <td>1029.0</td>\n      <td>7.0</td>\n      <td>3216.0</td>\n      <td>64.0</td>\n      <td>80.0</td>\n      <td>4.0</td>\n      <td>64.0</td>\n      <td>200.00</td>\n      <td>0.0</td>\n      <td>0.0</td>\n      <td>...</td>\n      <td>66046.0</td>\n      <td>3255.0</td>\n      <td>0.0</td>\n      <td>9.0</td>\n      <td>267162.0</td>\n      <td>644836.0</td>\n      <td>2.0</td>\n      <td>0.0</td>\n      <td>0.0</td>\n      <td>0.0</td>\n    </tr>\n    <tr>\n      <th>5</th>\n      <td>658.0</td>\n      <td>7.0</td>\n      <td>3156.0</td>\n      <td>224.0</td>\n      <td>280.0</td>\n      <td>2.0</td>\n      <td>72.0</td>\n      <td>200.00</td>\n      <td>5.0</td>\n      <td>0.0</td>\n      <td>...</td>\n      <td>43684.0</td>\n      <td>355.0</td>\n      <td>0.0</td>\n      <td>9.0</td>\n      <td>2639.0</td>\n      <td>745620.0</td>\n      <td>68.0</td>\n      <td>61368.0</td>\n      <td>0.0</td>\n      <td>0.0</td>\n    </tr>\n    <tr>\n      <th>6</th>\n      <td>1680.0</td>\n      <td>7.0</td>\n      <td>2952.0</td>\n      <td>308.0</td>\n      <td>385.0</td>\n      <td>4.0</td>\n      <td>128.0</td>\n      <td>176.56</td>\n      <td>0.0</td>\n      <td>13158.0</td>\n      <td>...</td>\n      <td>104978.0</td>\n      <td>1665.0</td>\n      <td>0.0</td>\n      <td>18.0</td>\n      <td>47019.0</td>\n      <td>2345424.0</td>\n      <td>52.0</td>\n      <td>417438.0</td>\n      <td>0.0</td>\n      <td>0.0</td>\n    </tr>\n    <tr>\n      <th>...</th>\n      <td>...</td>\n      <td>...</td>\n      <td>...</td>\n      <td>...</td>\n      <td>...</td>\n      <td>...</td>\n      <td>...</td>\n      <td>...</td>\n      <td>...</td>\n      <td>...</td>\n      <td>...</td>\n      <td>...</td>\n      <td>...</td>\n      <td>...</td>\n      <td>...</td>\n      <td>...</td>\n      <td>...</td>\n      <td>...</td>\n      <td>...</td>\n      <td>...</td>\n      <td>...</td>\n    </tr>\n    <tr>\n      <th>49994</th>\n      <td>266.0</td>\n      <td>0.0</td>\n      <td>0.0</td>\n      <td>792.0</td>\n      <td>990.0</td>\n      <td>18.0</td>\n      <td>432.0</td>\n      <td>336.56</td>\n      <td>0.0</td>\n      <td>2214786.0</td>\n      <td>...</td>\n      <td>227884.0</td>\n      <td>0.0</td>\n      <td>0.0</td>\n      <td>0.0</td>\n      <td>26159.0</td>\n      <td>3640968.0</td>\n      <td>104.0</td>\n      <td>138432.0</td>\n      <td>0.0</td>\n      <td>0.0</td>\n    </tr>\n    <tr>\n      <th>49995</th>\n      <td>357.0</td>\n      <td>0.0</td>\n      <td>0.0</td>\n      <td>132.0</td>\n      <td>165.0</td>\n      <td>2.0</td>\n      <td>0.0</td>\n      <td>288.08</td>\n      <td>0.0</td>\n      <td>6042420.0</td>\n      <td>...</td>\n      <td>0.0</td>\n      <td>0.0</td>\n      <td>0.0</td>\n      <td>9.0</td>\n      <td>604800.0</td>\n      <td>10367040.0</td>\n      <td>22.0</td>\n      <td>0.0</td>\n      <td>0.0</td>\n      <td>0.0</td>\n    </tr>\n    <tr>\n      <th>49996</th>\n      <td>1078.0</td>\n      <td>0.0</td>\n      <td>2736.0</td>\n      <td>380.0</td>\n      <td>475.0</td>\n      <td>2.0</td>\n      <td>88.0</td>\n      <td>166.56</td>\n      <td>0.0</td>\n      <td>0.0</td>\n      <td>...</td>\n      <td>39652.0</td>\n      <td>0.0</td>\n      <td>0.0</td>\n      <td>9.0</td>\n      <td>85120.0</td>\n      <td>1344900.0</td>\n      <td>150.0</td>\n      <td>9540.0</td>\n      <td>0.0</td>\n      <td>0.0</td>\n    </tr>\n    <tr>\n      <th>49997</th>\n      <td>2807.0</td>\n      <td>7.0</td>\n      <td>1460.0</td>\n      <td>568.0</td>\n      <td>710.0</td>\n      <td>4.0</td>\n      <td>328.0</td>\n      <td>166.56</td>\n      <td>0.0</td>\n      <td>42210.0</td>\n      <td>...</td>\n      <td>131588.0</td>\n      <td>675.0</td>\n      <td>0.0</td>\n      <td>27.0</td>\n      <td>4410.0</td>\n      <td>1242044.0</td>\n      <td>124.0</td>\n      <td>61734.0</td>\n      <td>0.0</td>\n      <td>0.0</td>\n    </tr>\n    <tr>\n      <th>49999</th>\n      <td>1694.0</td>\n      <td>7.0</td>\n      <td>828.0</td>\n      <td>192.0</td>\n      <td>240.0</td>\n      <td>0.0</td>\n      <td>48.0</td>\n      <td>220.08</td>\n      <td>5.0</td>\n      <td>2691228.0</td>\n      <td>...</td>\n      <td>95728.0</td>\n      <td>3350.0</td>\n      <td>0.0</td>\n      <td>18.0</td>\n      <td>0.0</td>\n      <td>10679800.0</td>\n      <td>50.0</td>\n      <td>165270.0</td>\n      <td>0.0</td>\n      <td>0.0</td>\n    </tr>\n  </tbody>\n</table>\n<p>36730 rows × 38 columns</p>\n</div>"
     },
     "execution_count": 132,
     "metadata": {},
     "output_type": "execute_result"
    }
   ],
   "source": [
    "set(X_train_all_missing_drop_continous.columns) - set()"
   ],
   "metadata": {
    "collapsed": false,
    "pycharm": {
     "name": "#%%\n"
    }
   }
  },
  {
   "cell_type": "code",
   "execution_count": 127,
   "outputs": [
    {
     "data": {
      "text/plain": "Var191     True\nVar192    False\nVar193    False\nVar194     True\nVar195    False\nVar196     True\nVar197    False\nVar198    False\nVar199    False\nVar200    False\nVar201     True\nVar202    False\nVar203     True\nVar204    False\nVar205     True\nVar206    False\nVar207    False\nVar208     True\nVar210     True\nVar211     True\nVar212    False\nVar213     True\nVar214    False\nVar215     True\nVar216    False\nVar217    False\nVar218     True\nVar219    False\nVar220    False\nVar221     True\nVar222    False\nVar223     True\nVar224     True\nVar225     True\nVar226    False\nVar227     True\nVar228    False\nVar229     True\ndtype: bool"
     },
     "execution_count": 127,
     "metadata": {},
     "output_type": "execute_result"
    }
   ],
   "source": [
    "(X_train.select_dtypes(include='object').nunique() < prefered_uniques)"
   ],
   "metadata": {
    "collapsed": false,
    "pycharm": {
     "name": "#%%\n"
    }
   }
  },
  {
   "cell_type": "code",
   "execution_count": 74,
   "outputs": [
    {
     "ename": "KeyError",
     "evalue": "'False: boolean label can not be used without a boolean index'",
     "output_type": "error",
     "traceback": [
      "\u001B[0;31m---------------------------------------------------------------------------\u001B[0m",
      "\u001B[0;31mKeyError\u001B[0m                                  Traceback (most recent call last)",
      "Cell \u001B[0;32mIn [74], line 1\u001B[0m\n\u001B[0;32m----> 1\u001B[0m X_train\u001B[38;5;241m.\u001B[39mloc[:,X_train\u001B[38;5;241m.\u001B[39mselect_dtypes(include\u001B[38;5;241m=\u001B[39m\u001B[38;5;124m'\u001B[39m\u001B[38;5;124mobject\u001B[39m\u001B[38;5;124m'\u001B[39m)\u001B[38;5;241m.\u001B[39mcolumns\u001B[38;5;241m.\u001B[39mnunique()\u001B[38;5;241m<\u001B[39m\u001B[38;5;241m10\u001B[39m]\n",
      "File \u001B[0;32m~/Data_science/UNIV_ai/venv/lib/python3.8/site-packages/pandas/core/indexing.py:961\u001B[0m, in \u001B[0;36m_LocationIndexer.__getitem__\u001B[0;34m(self, key)\u001B[0m\n\u001B[1;32m    959\u001B[0m     \u001B[38;5;28;01mif\u001B[39;00m \u001B[38;5;28mself\u001B[39m\u001B[38;5;241m.\u001B[39m_is_scalar_access(key):\n\u001B[1;32m    960\u001B[0m         \u001B[38;5;28;01mreturn\u001B[39;00m \u001B[38;5;28mself\u001B[39m\u001B[38;5;241m.\u001B[39mobj\u001B[38;5;241m.\u001B[39m_get_value(\u001B[38;5;241m*\u001B[39mkey, takeable\u001B[38;5;241m=\u001B[39m\u001B[38;5;28mself\u001B[39m\u001B[38;5;241m.\u001B[39m_takeable)\n\u001B[0;32m--> 961\u001B[0m     \u001B[38;5;28;01mreturn\u001B[39;00m \u001B[38;5;28;43mself\u001B[39;49m\u001B[38;5;241;43m.\u001B[39;49m\u001B[43m_getitem_tuple\u001B[49m\u001B[43m(\u001B[49m\u001B[43mkey\u001B[49m\u001B[43m)\u001B[49m\n\u001B[1;32m    962\u001B[0m \u001B[38;5;28;01melse\u001B[39;00m:\n\u001B[1;32m    963\u001B[0m     \u001B[38;5;66;03m# we by definition only have the 0th axis\u001B[39;00m\n\u001B[1;32m    964\u001B[0m     axis \u001B[38;5;241m=\u001B[39m \u001B[38;5;28mself\u001B[39m\u001B[38;5;241m.\u001B[39maxis \u001B[38;5;129;01mor\u001B[39;00m \u001B[38;5;241m0\u001B[39m\n",
      "File \u001B[0;32m~/Data_science/UNIV_ai/venv/lib/python3.8/site-packages/pandas/core/indexing.py:1140\u001B[0m, in \u001B[0;36m_LocIndexer._getitem_tuple\u001B[0;34m(self, tup)\u001B[0m\n\u001B[1;32m   1138\u001B[0m \u001B[38;5;28;01mwith\u001B[39;00m suppress(IndexingError):\n\u001B[1;32m   1139\u001B[0m     tup \u001B[38;5;241m=\u001B[39m \u001B[38;5;28mself\u001B[39m\u001B[38;5;241m.\u001B[39m_expand_ellipsis(tup)\n\u001B[0;32m-> 1140\u001B[0m     \u001B[38;5;28;01mreturn\u001B[39;00m \u001B[38;5;28;43mself\u001B[39;49m\u001B[38;5;241;43m.\u001B[39;49m\u001B[43m_getitem_lowerdim\u001B[49m\u001B[43m(\u001B[49m\u001B[43mtup\u001B[49m\u001B[43m)\u001B[49m\n\u001B[1;32m   1142\u001B[0m \u001B[38;5;66;03m# no multi-index, so validate all of the indexers\u001B[39;00m\n\u001B[1;32m   1143\u001B[0m tup \u001B[38;5;241m=\u001B[39m \u001B[38;5;28mself\u001B[39m\u001B[38;5;241m.\u001B[39m_validate_tuple_indexer(tup)\n",
      "File \u001B[0;32m~/Data_science/UNIV_ai/venv/lib/python3.8/site-packages/pandas/core/indexing.py:867\u001B[0m, in \u001B[0;36m_LocationIndexer._getitem_lowerdim\u001B[0;34m(self, tup)\u001B[0m\n\u001B[1;32m    863\u001B[0m \u001B[38;5;28;01mfor\u001B[39;00m i, key \u001B[38;5;129;01min\u001B[39;00m \u001B[38;5;28menumerate\u001B[39m(tup):\n\u001B[1;32m    864\u001B[0m     \u001B[38;5;28;01mif\u001B[39;00m is_label_like(key):\n\u001B[1;32m    865\u001B[0m         \u001B[38;5;66;03m# We don't need to check for tuples here because those are\u001B[39;00m\n\u001B[1;32m    866\u001B[0m         \u001B[38;5;66;03m#  caught by the _is_nested_tuple_indexer check above.\u001B[39;00m\n\u001B[0;32m--> 867\u001B[0m         section \u001B[38;5;241m=\u001B[39m \u001B[38;5;28;43mself\u001B[39;49m\u001B[38;5;241;43m.\u001B[39;49m\u001B[43m_getitem_axis\u001B[49m\u001B[43m(\u001B[49m\u001B[43mkey\u001B[49m\u001B[43m,\u001B[49m\u001B[43m \u001B[49m\u001B[43maxis\u001B[49m\u001B[38;5;241;43m=\u001B[39;49m\u001B[43mi\u001B[49m\u001B[43m)\u001B[49m\n\u001B[1;32m    869\u001B[0m         \u001B[38;5;66;03m# We should never have a scalar section here, because\u001B[39;00m\n\u001B[1;32m    870\u001B[0m         \u001B[38;5;66;03m#  _getitem_lowerdim is only called after a check for\u001B[39;00m\n\u001B[1;32m    871\u001B[0m         \u001B[38;5;66;03m#  is_scalar_access, which that would be.\u001B[39;00m\n\u001B[1;32m    872\u001B[0m         \u001B[38;5;28;01mif\u001B[39;00m section\u001B[38;5;241m.\u001B[39mndim \u001B[38;5;241m==\u001B[39m \u001B[38;5;28mself\u001B[39m\u001B[38;5;241m.\u001B[39mndim:\n\u001B[1;32m    873\u001B[0m             \u001B[38;5;66;03m# we're in the middle of slicing through a MultiIndex\u001B[39;00m\n\u001B[1;32m    874\u001B[0m             \u001B[38;5;66;03m# revise the key wrt to `section` by inserting an _NS\u001B[39;00m\n",
      "File \u001B[0;32m~/Data_science/UNIV_ai/venv/lib/python3.8/site-packages/pandas/core/indexing.py:1204\u001B[0m, in \u001B[0;36m_LocIndexer._getitem_axis\u001B[0;34m(self, key, axis)\u001B[0m\n\u001B[1;32m   1201\u001B[0m         \u001B[38;5;28;01mreturn\u001B[39;00m \u001B[38;5;28mself\u001B[39m\u001B[38;5;241m.\u001B[39mobj\u001B[38;5;241m.\u001B[39miloc[\u001B[38;5;28mtuple\u001B[39m(indexer)]\n\u001B[1;32m   1203\u001B[0m \u001B[38;5;66;03m# fall thru to straight lookup\u001B[39;00m\n\u001B[0;32m-> 1204\u001B[0m \u001B[38;5;28;43mself\u001B[39;49m\u001B[38;5;241;43m.\u001B[39;49m\u001B[43m_validate_key\u001B[49m\u001B[43m(\u001B[49m\u001B[43mkey\u001B[49m\u001B[43m,\u001B[49m\u001B[43m \u001B[49m\u001B[43maxis\u001B[49m\u001B[43m)\u001B[49m\n\u001B[1;32m   1205\u001B[0m \u001B[38;5;28;01mreturn\u001B[39;00m \u001B[38;5;28mself\u001B[39m\u001B[38;5;241m.\u001B[39m_get_label(key, axis\u001B[38;5;241m=\u001B[39maxis)\n",
      "File \u001B[0;32m~/Data_science/UNIV_ai/venv/lib/python3.8/site-packages/pandas/core/indexing.py:1011\u001B[0m, in \u001B[0;36m_LocIndexer._validate_key\u001B[0;34m(self, key, axis)\u001B[0m\n\u001B[1;32m   1001\u001B[0m \u001B[38;5;129m@doc\u001B[39m(_LocationIndexer\u001B[38;5;241m.\u001B[39m_validate_key)\n\u001B[1;32m   1002\u001B[0m \u001B[38;5;28;01mdef\u001B[39;00m \u001B[38;5;21m_validate_key\u001B[39m(\u001B[38;5;28mself\u001B[39m, key, axis: \u001B[38;5;28mint\u001B[39m):\n\u001B[1;32m   1003\u001B[0m     \u001B[38;5;66;03m# valid for a collection of labels (we check their presence later)\u001B[39;00m\n\u001B[1;32m   1004\u001B[0m     \u001B[38;5;66;03m# slice of labels (where start-end in labels)\u001B[39;00m\n\u001B[1;32m   1005\u001B[0m     \u001B[38;5;66;03m# slice of integers (only if in the labels)\u001B[39;00m\n\u001B[1;32m   1006\u001B[0m     \u001B[38;5;66;03m# boolean not in slice and with boolean index\u001B[39;00m\n\u001B[1;32m   1007\u001B[0m     \u001B[38;5;28;01mif\u001B[39;00m \u001B[38;5;28misinstance\u001B[39m(key, \u001B[38;5;28mbool\u001B[39m) \u001B[38;5;129;01mand\u001B[39;00m \u001B[38;5;129;01mnot\u001B[39;00m (\n\u001B[1;32m   1008\u001B[0m         is_bool_dtype(\u001B[38;5;28mself\u001B[39m\u001B[38;5;241m.\u001B[39mobj\u001B[38;5;241m.\u001B[39m_get_axis(axis))\n\u001B[1;32m   1009\u001B[0m         \u001B[38;5;129;01mor\u001B[39;00m \u001B[38;5;28mself\u001B[39m\u001B[38;5;241m.\u001B[39mobj\u001B[38;5;241m.\u001B[39m_get_axis(axis)\u001B[38;5;241m.\u001B[39mdtype\u001B[38;5;241m.\u001B[39mname \u001B[38;5;241m==\u001B[39m \u001B[38;5;124m\"\u001B[39m\u001B[38;5;124mboolean\u001B[39m\u001B[38;5;124m\"\u001B[39m\n\u001B[1;32m   1010\u001B[0m     ):\n\u001B[0;32m-> 1011\u001B[0m         \u001B[38;5;28;01mraise\u001B[39;00m \u001B[38;5;167;01mKeyError\u001B[39;00m(\n\u001B[1;32m   1012\u001B[0m             \u001B[38;5;124mf\u001B[39m\u001B[38;5;124m\"\u001B[39m\u001B[38;5;132;01m{\u001B[39;00mkey\u001B[38;5;132;01m}\u001B[39;00m\u001B[38;5;124m: boolean label can not be used without a boolean index\u001B[39m\u001B[38;5;124m\"\u001B[39m\n\u001B[1;32m   1013\u001B[0m         )\n\u001B[1;32m   1015\u001B[0m     \u001B[38;5;28;01mif\u001B[39;00m \u001B[38;5;28misinstance\u001B[39m(key, \u001B[38;5;28mslice\u001B[39m) \u001B[38;5;129;01mand\u001B[39;00m (\n\u001B[1;32m   1016\u001B[0m         \u001B[38;5;28misinstance\u001B[39m(key\u001B[38;5;241m.\u001B[39mstart, \u001B[38;5;28mbool\u001B[39m) \u001B[38;5;129;01mor\u001B[39;00m \u001B[38;5;28misinstance\u001B[39m(key\u001B[38;5;241m.\u001B[39mstop, \u001B[38;5;28mbool\u001B[39m)\n\u001B[1;32m   1017\u001B[0m     ):\n\u001B[1;32m   1018\u001B[0m         \u001B[38;5;28;01mraise\u001B[39;00m \u001B[38;5;167;01mTypeError\u001B[39;00m(\u001B[38;5;124mf\u001B[39m\u001B[38;5;124m\"\u001B[39m\u001B[38;5;132;01m{\u001B[39;00mkey\u001B[38;5;132;01m}\u001B[39;00m\u001B[38;5;124m: boolean values can not be used in a slice\u001B[39m\u001B[38;5;124m\"\u001B[39m)\n",
      "\u001B[0;31mKeyError\u001B[0m: 'False: boolean label can not be used without a boolean index'"
     ]
    }
   ],
   "source": [
    "X_train.loc[:, X_train.select_dtypes(include='object').columns.nunique() < prefered_uniques]"
   ],
   "metadata": {
    "collapsed": false,
    "pycharm": {
     "name": "#%%\n"
    }
   }
  },
  {
   "cell_type": "code",
   "execution_count": 59,
   "outputs": [
    {
     "data": {
      "text/plain": "         Var192  Var193  Var195  Var196  Var197  Var198  Var199  Var202  \\\nnunique   False   False   False    True   False   False   False   False   \n\n         Var203  Var204  ...  Var217  Var218  Var219  Var220  Var221  Var222  \\\nnunique    True   False  ...   False    True   False   False    True   False   \n\n         Var223  Var226  Var227  Var228  \nnunique    True   False    True   False  \n\n[1 rows x 28 columns]",
      "text/html": "<div>\n<style scoped>\n    .dataframe tbody tr th:only-of-type {\n        vertical-align: middle;\n    }\n\n    .dataframe tbody tr th {\n        vertical-align: top;\n    }\n\n    .dataframe thead th {\n        text-align: right;\n    }\n</style>\n<table border=\"1\" class=\"dataframe\">\n  <thead>\n    <tr style=\"text-align: right;\">\n      <th></th>\n      <th>Var192</th>\n      <th>Var193</th>\n      <th>Var195</th>\n      <th>Var196</th>\n      <th>Var197</th>\n      <th>Var198</th>\n      <th>Var199</th>\n      <th>Var202</th>\n      <th>Var203</th>\n      <th>Var204</th>\n      <th>...</th>\n      <th>Var217</th>\n      <th>Var218</th>\n      <th>Var219</th>\n      <th>Var220</th>\n      <th>Var221</th>\n      <th>Var222</th>\n      <th>Var223</th>\n      <th>Var226</th>\n      <th>Var227</th>\n      <th>Var228</th>\n    </tr>\n  </thead>\n  <tbody>\n    <tr>\n      <th>nunique</th>\n      <td>False</td>\n      <td>False</td>\n      <td>False</td>\n      <td>True</td>\n      <td>False</td>\n      <td>False</td>\n      <td>False</td>\n      <td>False</td>\n      <td>True</td>\n      <td>False</td>\n      <td>...</td>\n      <td>False</td>\n      <td>True</td>\n      <td>False</td>\n      <td>False</td>\n      <td>True</td>\n      <td>False</td>\n      <td>True</td>\n      <td>False</td>\n      <td>True</td>\n      <td>False</td>\n    </tr>\n  </tbody>\n</table>\n<p>1 rows × 28 columns</p>\n</div>"
     },
     "execution_count": 59,
     "metadata": {},
     "output_type": "execute_result"
    }
   ],
   "source": [
    " X_train.dropna(axis=1, thresh=min_count).dropna(axis=0).select_dtypes(include='object').agg(\n",
    "    ['nunique']) < prefered_uniques"
   ],
   "metadata": {
    "collapsed": false,
    "pycharm": {
     "name": "#%%\n"
    }
   }
  },
  {
   "cell_type": "code",
   "execution_count": 50,
   "outputs": [
    {
     "data": {
      "text/plain": "array(['1K8T', 'z3mO', 'mKeq', 'JA1C'], dtype=object)"
     },
     "execution_count": 50,
     "metadata": {},
     "output_type": "execute_result"
    }
   ],
   "source": [
    "X_train.dropna(axis=1, thresh=min_count).dropna(axis=0)['Var196'].unique()"
   ],
   "metadata": {
    "collapsed": false,
    "pycharm": {
     "name": "#%%\n"
    }
   }
  },
  {
   "cell_type": "code",
   "execution_count": null,
   "outputs": [],
   "source": [],
   "metadata": {
    "collapsed": false,
    "pycharm": {
     "name": "#%%\n"
    }
   }
  }
 ],
 "metadata": {
  "kernelspec": {
   "display_name": "Python 3",
   "language": "python",
   "name": "python3"
  },
  "language_info": {
   "codemirror_mode": {
    "name": "ipython",
    "version": 2
   },
   "file_extension": ".py",
   "mimetype": "text/x-python",
   "name": "python",
   "nbconvert_exporter": "python",
   "pygments_lexer": "ipython2",
   "version": "2.7.6"
  }
 },
 "nbformat": 4,
 "nbformat_minor": 0
}