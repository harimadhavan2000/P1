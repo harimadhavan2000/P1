{
 "cells": [
  {
   "cell_type": "code",
   "execution_count": 1,
   "outputs": [],
   "source": [
    "import pandas as pd"
   ],
   "metadata": {
    "collapsed": false,
    "pycharm": {
     "name": "#%%\n"
    }
   }
  },
  {
   "cell_type": "code",
   "execution_count": 8,
   "outputs": [
    {
     "name": "stderr",
     "output_type": "stream",
     "text": [
      "/var/folders/6d/ydlrjs7x3_n6lhh19hn27v200000gn/T/ipykernel_23063/1468903315.py:1: DtypeWarning: Columns (14741,14742,14748,14749,14750,14752,14753,14755,14758,14759,14760,14762,14767,14769,14773,14776,14779,14780,14781,14789,14791,14797,14798,14800,14804,14805,14806,14809,14811,14817,14818,14819,14824,14828,14832,14834,14836,14843,14844,14850,14851,14855,14861,14871,14876,14878,14879,14881,14882,14883,14886,14888,14890,14894,14896,14897,14900,14904,14906,14914,14916,14917,14918,14926,14928,14931,14932,14936,14937,14939,14942,14943,14944,14947,14951,14954,14957,14958,14970,14972,14980,14996,14998) have mixed types. Specify dtype option on import or set low_memory=False.\n",
      "  X= pd.read_csv('orange_large_train.data.chunk1',sep='\\t')\n"
     ]
    }
   ],
   "source": [
    "X= pd.read_csv('orange_large_train.data.chunk1',sep='\\t')\n",
    "y=pd.read_csv('orange_large_train_churn.labels')"
   ],
   "metadata": {
    "collapsed": false,
    "pycharm": {
     "name": "#%%\n"
    }
   }
  },
  {
   "cell_type": "code",
   "execution_count": 18,
   "outputs": [
    {
     "data": {
      "text/plain": "      Var1  Var2  Var3  Var4  Var5  Var6  Var7  Var8  Var9  Var10  ...  \\\n0        0     0     0     0     0     0   0.0     0     0      0  ...   \n1        0     0     0     0     0     0   0.0     0     0      0  ...   \n2        0     0     0     0     6     0   0.0     0     0      0  ...   \n3        0     0     0     0     0     0   0.0     0     0      0  ...   \n4        0     0     0     0     0     0   0.0     0     0      0  ...   \n...    ...   ...   ...   ...   ...   ...   ...   ...   ...    ...  ...   \n9994     0     0     0     0     0     0   0.0     0     0      0  ...   \n9995     0     0     0     0     0     0   0.0     0     0      0  ...   \n9996     0     0     0     0     0     0   0.0     0     0      0  ...   \n9997     0     0     0     0     0     0   0.0     0     0      0  ...   \n9998     0     0     0     0     0     0   0.0     0     0      0  ...   \n\n      Var14875  Var14890  Var14893  Var14903       Var14910  Var14913  \\\n0         UAc5      5eCd   VicHEoo      _lnU           py8m      JKc4   \n1         UAc5      zSxe   J7IUB91      _lnU           py8m      2e81   \n2         UAc5      5eCd   NqRDYUf      _lnU           py8m      z0H8   \n3         UAc5      5eCd   0eyRkLO   MgxIGSo           py8m      mZkv   \n4         UAc5      5eCd   _tp5CAA      xfMf           py8m      1zA6   \n...        ...       ...       ...       ...            ...       ...   \n9994      UAc5      5eCd   FS6qh7f      _lnU           py8m      zOMd   \n9995      UAc5      5eCd   c75Jl_a      xfMf           py8m      msXM   \n9996      UAc5      5eCd   g8PQST5   MgxIGSo           py8m      d0Tk   \n9997      UAc5      5eCd   c75Jl_a   IgsADVV  VFdAxz2nKWJ3b      f2Hp   \n9998      UAc5      5eCd   7wlNtdW      _lnU     kmIOIU1EPn      zSzG   \n\n      Var14921       Var14923  Var14990  Var14993  \n0         p3by  eUNaPPAA49Enq      0200   IPyde4c  \n1         p3by        ILESZvp      X7HG   tQAVcMq  \n2         p3by        ILESZvp      77a1   mnKkkvG  \n3         p3by           2PEs      ABkU   ZF0bafC  \n4         p3by     ED3wDbnc4Y      0200   z1miBkG  \n...        ...            ...       ...       ...  \n9994      p3by        ILESZvp      X7HG   zLdRfdX  \n9995      p3by  zprlKE91yjo7Z      rRqp   iMHYkhP  \n9996      p3by           2PEs      0200   EBL_HBB  \n9997      p3by  tWKPzJ6O138XY      X7HG   iMHYkhP  \n9998      p3by        ILESZvp      X7HG   U4pl_w9  \n\n[9999 rows x 14387 columns]",
      "text/html": "<div>\n<style scoped>\n    .dataframe tbody tr th:only-of-type {\n        vertical-align: middle;\n    }\n\n    .dataframe tbody tr th {\n        vertical-align: top;\n    }\n\n    .dataframe thead th {\n        text-align: right;\n    }\n</style>\n<table border=\"1\" class=\"dataframe\">\n  <thead>\n    <tr style=\"text-align: right;\">\n      <th></th>\n      <th>Var1</th>\n      <th>Var2</th>\n      <th>Var3</th>\n      <th>Var4</th>\n      <th>Var5</th>\n      <th>Var6</th>\n      <th>Var7</th>\n      <th>Var8</th>\n      <th>Var9</th>\n      <th>Var10</th>\n      <th>...</th>\n      <th>Var14875</th>\n      <th>Var14890</th>\n      <th>Var14893</th>\n      <th>Var14903</th>\n      <th>Var14910</th>\n      <th>Var14913</th>\n      <th>Var14921</th>\n      <th>Var14923</th>\n      <th>Var14990</th>\n      <th>Var14993</th>\n    </tr>\n  </thead>\n  <tbody>\n    <tr>\n      <th>0</th>\n      <td>0</td>\n      <td>0</td>\n      <td>0</td>\n      <td>0</td>\n      <td>0</td>\n      <td>0</td>\n      <td>0.0</td>\n      <td>0</td>\n      <td>0</td>\n      <td>0</td>\n      <td>...</td>\n      <td>UAc5</td>\n      <td>5eCd</td>\n      <td>VicHEoo</td>\n      <td>_lnU</td>\n      <td>py8m</td>\n      <td>JKc4</td>\n      <td>p3by</td>\n      <td>eUNaPPAA49Enq</td>\n      <td>0200</td>\n      <td>IPyde4c</td>\n    </tr>\n    <tr>\n      <th>1</th>\n      <td>0</td>\n      <td>0</td>\n      <td>0</td>\n      <td>0</td>\n      <td>0</td>\n      <td>0</td>\n      <td>0.0</td>\n      <td>0</td>\n      <td>0</td>\n      <td>0</td>\n      <td>...</td>\n      <td>UAc5</td>\n      <td>zSxe</td>\n      <td>J7IUB91</td>\n      <td>_lnU</td>\n      <td>py8m</td>\n      <td>2e81</td>\n      <td>p3by</td>\n      <td>ILESZvp</td>\n      <td>X7HG</td>\n      <td>tQAVcMq</td>\n    </tr>\n    <tr>\n      <th>2</th>\n      <td>0</td>\n      <td>0</td>\n      <td>0</td>\n      <td>0</td>\n      <td>6</td>\n      <td>0</td>\n      <td>0.0</td>\n      <td>0</td>\n      <td>0</td>\n      <td>0</td>\n      <td>...</td>\n      <td>UAc5</td>\n      <td>5eCd</td>\n      <td>NqRDYUf</td>\n      <td>_lnU</td>\n      <td>py8m</td>\n      <td>z0H8</td>\n      <td>p3by</td>\n      <td>ILESZvp</td>\n      <td>77a1</td>\n      <td>mnKkkvG</td>\n    </tr>\n    <tr>\n      <th>3</th>\n      <td>0</td>\n      <td>0</td>\n      <td>0</td>\n      <td>0</td>\n      <td>0</td>\n      <td>0</td>\n      <td>0.0</td>\n      <td>0</td>\n      <td>0</td>\n      <td>0</td>\n      <td>...</td>\n      <td>UAc5</td>\n      <td>5eCd</td>\n      <td>0eyRkLO</td>\n      <td>MgxIGSo</td>\n      <td>py8m</td>\n      <td>mZkv</td>\n      <td>p3by</td>\n      <td>2PEs</td>\n      <td>ABkU</td>\n      <td>ZF0bafC</td>\n    </tr>\n    <tr>\n      <th>4</th>\n      <td>0</td>\n      <td>0</td>\n      <td>0</td>\n      <td>0</td>\n      <td>0</td>\n      <td>0</td>\n      <td>0.0</td>\n      <td>0</td>\n      <td>0</td>\n      <td>0</td>\n      <td>...</td>\n      <td>UAc5</td>\n      <td>5eCd</td>\n      <td>_tp5CAA</td>\n      <td>xfMf</td>\n      <td>py8m</td>\n      <td>1zA6</td>\n      <td>p3by</td>\n      <td>ED3wDbnc4Y</td>\n      <td>0200</td>\n      <td>z1miBkG</td>\n    </tr>\n    <tr>\n      <th>...</th>\n      <td>...</td>\n      <td>...</td>\n      <td>...</td>\n      <td>...</td>\n      <td>...</td>\n      <td>...</td>\n      <td>...</td>\n      <td>...</td>\n      <td>...</td>\n      <td>...</td>\n      <td>...</td>\n      <td>...</td>\n      <td>...</td>\n      <td>...</td>\n      <td>...</td>\n      <td>...</td>\n      <td>...</td>\n      <td>...</td>\n      <td>...</td>\n      <td>...</td>\n      <td>...</td>\n    </tr>\n    <tr>\n      <th>9994</th>\n      <td>0</td>\n      <td>0</td>\n      <td>0</td>\n      <td>0</td>\n      <td>0</td>\n      <td>0</td>\n      <td>0.0</td>\n      <td>0</td>\n      <td>0</td>\n      <td>0</td>\n      <td>...</td>\n      <td>UAc5</td>\n      <td>5eCd</td>\n      <td>FS6qh7f</td>\n      <td>_lnU</td>\n      <td>py8m</td>\n      <td>zOMd</td>\n      <td>p3by</td>\n      <td>ILESZvp</td>\n      <td>X7HG</td>\n      <td>zLdRfdX</td>\n    </tr>\n    <tr>\n      <th>9995</th>\n      <td>0</td>\n      <td>0</td>\n      <td>0</td>\n      <td>0</td>\n      <td>0</td>\n      <td>0</td>\n      <td>0.0</td>\n      <td>0</td>\n      <td>0</td>\n      <td>0</td>\n      <td>...</td>\n      <td>UAc5</td>\n      <td>5eCd</td>\n      <td>c75Jl_a</td>\n      <td>xfMf</td>\n      <td>py8m</td>\n      <td>msXM</td>\n      <td>p3by</td>\n      <td>zprlKE91yjo7Z</td>\n      <td>rRqp</td>\n      <td>iMHYkhP</td>\n    </tr>\n    <tr>\n      <th>9996</th>\n      <td>0</td>\n      <td>0</td>\n      <td>0</td>\n      <td>0</td>\n      <td>0</td>\n      <td>0</td>\n      <td>0.0</td>\n      <td>0</td>\n      <td>0</td>\n      <td>0</td>\n      <td>...</td>\n      <td>UAc5</td>\n      <td>5eCd</td>\n      <td>g8PQST5</td>\n      <td>MgxIGSo</td>\n      <td>py8m</td>\n      <td>d0Tk</td>\n      <td>p3by</td>\n      <td>2PEs</td>\n      <td>0200</td>\n      <td>EBL_HBB</td>\n    </tr>\n    <tr>\n      <th>9997</th>\n      <td>0</td>\n      <td>0</td>\n      <td>0</td>\n      <td>0</td>\n      <td>0</td>\n      <td>0</td>\n      <td>0.0</td>\n      <td>0</td>\n      <td>0</td>\n      <td>0</td>\n      <td>...</td>\n      <td>UAc5</td>\n      <td>5eCd</td>\n      <td>c75Jl_a</td>\n      <td>IgsADVV</td>\n      <td>VFdAxz2nKWJ3b</td>\n      <td>f2Hp</td>\n      <td>p3by</td>\n      <td>tWKPzJ6O138XY</td>\n      <td>X7HG</td>\n      <td>iMHYkhP</td>\n    </tr>\n    <tr>\n      <th>9998</th>\n      <td>0</td>\n      <td>0</td>\n      <td>0</td>\n      <td>0</td>\n      <td>0</td>\n      <td>0</td>\n      <td>0.0</td>\n      <td>0</td>\n      <td>0</td>\n      <td>0</td>\n      <td>...</td>\n      <td>UAc5</td>\n      <td>5eCd</td>\n      <td>7wlNtdW</td>\n      <td>_lnU</td>\n      <td>kmIOIU1EPn</td>\n      <td>zSzG</td>\n      <td>p3by</td>\n      <td>ILESZvp</td>\n      <td>X7HG</td>\n      <td>U4pl_w9</td>\n    </tr>\n  </tbody>\n</table>\n<p>9999 rows × 14387 columns</p>\n</div>"
     },
     "execution_count": 18,
     "metadata": {},
     "output_type": "execute_result"
    }
   ],
   "source": [
    "X.drop(X.columns[X.isna().any()],axis=1)\n"
   ],
   "metadata": {
    "collapsed": false,
    "pycharm": {
     "name": "#%%\n"
    }
   }
  },
  {
   "cell_type": "code",
   "execution_count": 20,
   "outputs": [
    {
     "data": {
      "text/plain": "Index(['Var52', 'Var156', 'Var169', 'Var173', 'Var182', 'Var217', 'Var269',\n       'Var360', 'Var559', 'Var598',\n       ...\n       'Var14989', 'Var14991', 'Var14992', 'Var14994', 'Var14995', 'Var14996',\n       'Var14997', 'Var14998', 'Var14999', 'Var15000'],\n      dtype='object', length=613)"
     },
     "execution_count": 20,
     "metadata": {},
     "output_type": "execute_result"
    }
   ],
   "source": [
    "X.columns[X.isna().any()]"
   ],
   "metadata": {
    "collapsed": false,
    "pycharm": {
     "name": "#%%\n"
    }
   }
  },
  {
   "cell_type": "code",
   "execution_count": null,
   "outputs": [],
   "source": [],
   "metadata": {
    "collapsed": false,
    "pycharm": {
     "name": "#%%\n"
    }
   }
  }
 ],
 "metadata": {
  "kernelspec": {
   "display_name": "Python 3",
   "language": "python",
   "name": "python3"
  },
  "language_info": {
   "codemirror_mode": {
    "name": "ipython",
    "version": 2
   },
   "file_extension": ".py",
   "mimetype": "text/x-python",
   "name": "python",
   "nbconvert_exporter": "python",
   "pygments_lexer": "ipython2",
   "version": "2.7.6"
  }
 },
 "nbformat": 4,
 "nbformat_minor": 0
}