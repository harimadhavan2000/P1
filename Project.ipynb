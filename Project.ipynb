{
    "cells": [
        {
            "attachments": {},
            "cell_type": "markdown",
            "metadata": {},
            "source": [
                "# Project: Customer Relationship Prediction\n",
                "Univ.AI <br>\n",
                "AI-1 Cohort-5"
            ]
        },
        {
            "attachments": {},
            "cell_type": "markdown",
            "metadata": {},
            "source": [
                "## Name of the people who worked on the project:\n"
            ]
        },
        {
            "attachments": {},
            "cell_type": "markdown",
            "metadata": {},
            "source": [
                "Link to presentation: *link here*\n",
                "\n",
                "Link to slides: *link here*\n",
                "\n",
                "Link to poster: *link here*\n",
                "\n",
                "Any other information:*link here*"
            ]
        },
        {
            "cell_type": "code",
            "execution_count": 1,
            "metadata": {},
            "outputs": [],
            "source": [
                "import pandas as pd\n",
                "import numpy as np\n",
                "import seaborn as sns\n",
                "import matplotlib.pyplot as plt\n",
                "from sklearn.linear_model import LogisticRegression\n",
                "from sklearn.metrics import accuracy_score\n",
                "from sklearn.model_selection import train_test_split\n",
                "from sklearn.preprocessing import StandardScaler\n",
                "from sklearn.metrics import confusion_matrix\n",
                "from sklearn.model_selection import cross_val_score\n",
                "from sklearn.model_selection import GridSearchCV\n",
                "from sklearn.metrics import (confusion_matrix, auc, f1_score,roc_auc_score)\n",
                "from sklearn.utils import resample\n",
                "from sklearn.preprocessing import StandardScaler\n",
                "from sklearn.preprocessing import OneHotEncoder\n",
                "from sklearn.impute import KNNImputer"
            ]
        },
        {
            "cell_type": "code",
            "execution_count": 20,
            "metadata": {},
            "outputs": [],
            "source": [
                "df = pd.read_csv(\"./orange_small_train.data\", sep = \"\\t\")\n"
            ]
        },
        {
            "cell_type": "code",
            "execution_count": 21,
            "metadata": {},
            "outputs": [],
            "source": [
                "churn = pd.read_table('orange_small_train_churn.labels', header = None).loc[:, 0]\n"
            ]
        },
        {
            "cell_type": "code",
            "execution_count": 22,
            "metadata": {},
            "outputs": [],
            "source": [
                "churn = pd.Series(churn)\n",
                "df = df.assign(churn = churn)"
            ]
        },
        {
            "cell_type": "code",
            "execution_count": 23,
            "metadata": {},
            "outputs": [],
            "source": [
                "s = df.shape[1] "
            ]
        },
        {
            "cell_type": "code",
            "execution_count": 24,
            "metadata": {},
            "outputs": [
                {
                    "data": {
                        "text/plain": [
                            "40001"
                        ]
                    },
                    "execution_count": 24,
                    "metadata": {},
                    "output_type": "execute_result"
                }
            ],
            "source": [
                "missing_perc = 20\n",
                "min_count = int(((100 - missing_perc) / 100) * df.shape[0] + 1)\n",
                "min_count"
            ]
        },
        {
            "cell_type": "code",
            "execution_count": 25,
            "metadata": {},
            "outputs": [],
            "source": [
                "#drop all missing and only continous variable\n",
                "prefered_uniques = 10\n",
                "# create a list of numeric values and less than prefered uniques categorical columns\n",
                "fe_unique_columns = list(df.select_dtypes(include='number').columns) + list(\n",
                "    (df.select_dtypes(include='object').nunique() < prefered_uniques).index[\n",
                "        df.select_dtypes(include='object').nunique() < prefered_uniques])\n",
                "# collect only numeric features\n",
                "df_all_missing_drop_continous = df.dropna( axis=1,thresh=min_count).dropna(axis=0).select_dtypes(include=['number'])#.agg(['nunique','count'])\n",
                "numeric_col_after_drop = df_all_missing_drop_continous.columns\n",
                "# create df with categorical variables with less than 10 uniques\n",
                "df_all_missing_dropped_prefered_unique_cat = df[fe_unique_columns].dropna( axis=1,thresh=min_count).dropna(axis=0)\n",
                "feature_prefered_columns = list(df_all_missing_dropped_prefered_unique_cat.columns)\n",
                "# creating dummy variables for the data with  categorical variables\n",
                "df_encoded = pd.get_dummies(df_all_missing_dropped_prefered_unique_cat,drop_first=True)"
            ]
        },
        {
            "cell_type": "code",
            "execution_count": 26,
            "metadata": {},
            "outputs": [
                {
                    "data": {
                        "text/html": [
                            "<div>\n",
                            "<style scoped>\n",
                            "    .dataframe tbody tr th:only-of-type {\n",
                            "        vertical-align: middle;\n",
                            "    }\n",
                            "\n",
                            "    .dataframe tbody tr th {\n",
                            "        vertical-align: top;\n",
                            "    }\n",
                            "\n",
                            "    .dataframe thead th {\n",
                            "        text-align: right;\n",
                            "    }\n",
                            "</style>\n",
                            "<table border=\"1\" class=\"dataframe\">\n",
                            "  <thead>\n",
                            "    <tr style=\"text-align: right;\">\n",
                            "      <th></th>\n",
                            "      <th>Var192</th>\n",
                            "      <th>Var193</th>\n",
                            "      <th>Var195</th>\n",
                            "      <th>Var196</th>\n",
                            "      <th>Var197</th>\n",
                            "      <th>Var198</th>\n",
                            "      <th>Var199</th>\n",
                            "      <th>Var202</th>\n",
                            "      <th>Var203</th>\n",
                            "      <th>Var204</th>\n",
                            "      <th>...</th>\n",
                            "      <th>Var217</th>\n",
                            "      <th>Var218</th>\n",
                            "      <th>Var219</th>\n",
                            "      <th>Var220</th>\n",
                            "      <th>Var221</th>\n",
                            "      <th>Var222</th>\n",
                            "      <th>Var223</th>\n",
                            "      <th>Var226</th>\n",
                            "      <th>Var227</th>\n",
                            "      <th>Var228</th>\n",
                            "    </tr>\n",
                            "  </thead>\n",
                            "  <tbody>\n",
                            "    <tr>\n",
                            "      <th>nunique</th>\n",
                            "      <td>False</td>\n",
                            "      <td>False</td>\n",
                            "      <td>False</td>\n",
                            "      <td>True</td>\n",
                            "      <td>False</td>\n",
                            "      <td>False</td>\n",
                            "      <td>False</td>\n",
                            "      <td>False</td>\n",
                            "      <td>True</td>\n",
                            "      <td>False</td>\n",
                            "      <td>...</td>\n",
                            "      <td>False</td>\n",
                            "      <td>True</td>\n",
                            "      <td>False</td>\n",
                            "      <td>False</td>\n",
                            "      <td>True</td>\n",
                            "      <td>False</td>\n",
                            "      <td>True</td>\n",
                            "      <td>False</td>\n",
                            "      <td>True</td>\n",
                            "      <td>False</td>\n",
                            "    </tr>\n",
                            "  </tbody>\n",
                            "</table>\n",
                            "<p>1 rows × 28 columns</p>\n",
                            "</div>"
                        ],
                        "text/plain": [
                            "         Var192  Var193  Var195  Var196  Var197  Var198  Var199  Var202  \\\n",
                            "nunique   False   False   False    True   False   False   False   False   \n",
                            "\n",
                            "         Var203  Var204  ...  Var217  Var218  Var219  Var220  Var221  Var222  \\\n",
                            "nunique    True   False  ...   False    True   False   False    True   False   \n",
                            "\n",
                            "         Var223  Var226  Var227  Var228  \n",
                            "nunique    True   False    True   False  \n",
                            "\n",
                            "[1 rows x 28 columns]"
                        ]
                    },
                    "execution_count": 26,
                    "metadata": {},
                    "output_type": "execute_result"
                }
            ],
            "source": [
                "df.dropna(axis=1, thresh=min_count).dropna(axis=0).select_dtypes(include='object').agg(['nunique']) < prefered_uniques"
            ]
        },
        {
            "cell_type": "code",
            "execution_count": 27,
            "metadata": {},
            "outputs": [
                {
                    "data": {
                        "text/plain": [
                            "array(['1K8T', 'z3mO', 'mKeq', 'JA1C'], dtype=object)"
                        ]
                    },
                    "execution_count": 27,
                    "metadata": {},
                    "output_type": "execute_result"
                }
            ],
            "source": [
                "df.dropna(axis=1, thresh=min_count).dropna(axis=0)['Var196'].unique()\n"
            ]
        },
        {
            "cell_type": "code",
            "execution_count": 28,
            "metadata": {},
            "outputs": [],
            "source": [
                "df = df.fillna(df.mean())"
            ]
        },
        {
            "cell_type": "code",
            "execution_count": 29,
            "metadata": {},
            "outputs": [],
            "source": [
                "c = []\n",
                "for i in range(s-39, s+ 1):\n",
                "    value = 0\n",
                "    value = 'Var{}'.format(i)\n",
                "    if value in df.columns:\n",
                "        c.append(value)"
            ]
        },
        {
            "cell_type": "code",
            "execution_count": 30,
            "metadata": {},
            "outputs": [],
            "source": [
                "df_dupe = df"
            ]
        },
        {
            "cell_type": "markdown",
            "metadata": {},
            "source": [
                "# Remove all categorical "
            ]
        },
        {
            "cell_type": "code",
            "execution_count": 12,
            "metadata": {},
            "outputs": [],
            "source": [
                "df = df.dropna(axis=1)"
            ]
        },
        {
            "cell_type": "code",
            "execution_count": 13,
            "metadata": {},
            "outputs": [],
            "source": [
                "for i in range(s-39, s+ 1):\n",
                "    value = 0\n",
                "    value = 'Var{}'.format(i)\n",
                "    try:\n",
                "        df.drop(value, axis=1, inplace=True)\n",
                "    except:\n",
                "        pass"
            ]
        },
        {
            "cell_type": "code",
            "execution_count": 14,
            "metadata": {},
            "outputs": [],
            "source": [
                "df_churn = df[df['churn']==1]\n",
                "df_not = df[df['churn']==-1]\n",
                "df_upsampled = resample(df_churn, replace=True, n_samples=df_not.shape[0])\n",
                "\n",
                "df = pd.concat([df_not, df_upsampled])\n",
                "df_X = df.drop(['churn'],axis=1)\n",
                "df_y = df['churn']"
            ]
        },
        {
            "cell_type": "code",
            "execution_count": 15,
            "metadata": {},
            "outputs": [],
            "source": [
                "X_train, X_test, y_train, y_test = train_test_split(df_X,df_y ,test_size=0.2)\n"
            ]
        },
        {
            "cell_type": "code",
            "execution_count": 16,
            "metadata": {},
            "outputs": [
                {
                    "name": "stderr",
                    "output_type": "stream",
                    "text": [
                        "c:\\Users\\munch\\AppData\\Local\\Programs\\Python\\Python39\\lib\\site-packages\\sklearn\\svm\\_base.py:976: ConvergenceWarning: Liblinear failed to converge, increase the number of iterations.\n",
                        "  warnings.warn(\"Liblinear failed to converge, increase \"\n"
                    ]
                },
                {
                    "data": {
                        "text/plain": [
                            "LogisticRegression(solver='liblinear')"
                        ]
                    },
                    "execution_count": 16,
                    "metadata": {},
                    "output_type": "execute_result"
                }
            ],
            "source": [
                "model = LogisticRegression(solver='liblinear')\n",
                "model.fit(X_train, y_train)"
            ]
        },
        {
            "cell_type": "code",
            "execution_count": 17,
            "metadata": {},
            "outputs": [],
            "source": [
                "y_pred = model.predict(X_test)\n"
            ]
        },
        {
            "cell_type": "code",
            "execution_count": 18,
            "metadata": {},
            "outputs": [
                {
                    "data": {
                        "text/plain": [
                            "0.5751133175048565"
                        ]
                    },
                    "execution_count": 18,
                    "metadata": {},
                    "output_type": "execute_result"
                }
            ],
            "source": [
                "accuracy_score(y_test, y_pred)\n"
            ]
        },
        {
            "cell_type": "code",
            "execution_count": 19,
            "metadata": {},
            "outputs": [
                {
                    "data": {
                        "text/plain": [
                            "0.574705148610947"
                        ]
                    },
                    "execution_count": 19,
                    "metadata": {},
                    "output_type": "execute_result"
                }
            ],
            "source": [
                "roc_auc_score(y_test, y_pred)\n"
            ]
        },
        {
            "cell_type": "markdown",
            "metadata": {},
            "source": [
                "# Break"
            ]
        },
        {
            "cell_type": "code",
            "execution_count": null,
            "metadata": {},
            "outputs": [],
            "source": [
                "print('Next attempt')"
            ]
        },
        {
            "cell_type": "markdown",
            "metadata": {},
            "source": [
                "# Keep cat columns with less than 10 categories"
            ]
        },
        {
            "cell_type": "code",
            "execution_count": 31,
            "metadata": {},
            "outputs": [],
            "source": [
                "df = df_dupe"
            ]
        },
        {
            "cell_type": "code",
            "execution_count": 33,
            "metadata": {},
            "outputs": [],
            "source": [
                "c = []\n",
                "for i in range(s-39, s+ 1):\n",
                "    value = 0\n",
                "    value = 'Var{}'.format(i)\n",
                "    if value in df.columns:\n",
                "        c.append(value)"
            ]
        },
        {
            "cell_type": "code",
            "execution_count": 34,
            "metadata": {},
            "outputs": [],
            "source": [
                "def top_labels_train(X_train, col, max_val):\n",
                "    top_all = []\n",
                "    top = list(X_train[col].value_counts().sort_values(ascending=False).head(max_val).index)\n",
                "    return X_train.apply(lambda x: np.NaN if x[col] not in top else x[col], axis=1)"
            ]
        },
        {
            "cell_type": "code",
            "execution_count": 35,
            "metadata": {},
            "outputs": [],
            "source": [
                "for x in c:\n",
                "    df[x] = top_labels_train(df, x, 10)"
            ]
        },
        {
            "cell_type": "code",
            "execution_count": null,
            "metadata": {},
            "outputs": [],
            "source": [
                "df = df.dropna(axis=1)"
            ]
        },
        {
            "cell_type": "code",
            "execution_count": null,
            "metadata": {},
            "outputs": [],
            "source": [
                "X_train, X_test = train_test_split(df ,test_size=0.2)\n"
            ]
        },
        {
            "cell_type": "code",
            "execution_count": null,
            "metadata": {},
            "outputs": [],
            "source": [
                "c = []\n",
                "for i in range(s-39, s+ 1):\n",
                "    value = 0\n",
                "    value = 'Var{}'.format(i)\n",
                "    if value in df.columns:\n",
                "        c.append(value)"
            ]
        },
        {
            "cell_type": "code",
            "execution_count": null,
            "metadata": {},
            "outputs": [],
            "source": [
                "df_churn = X_train[X_train['churn']==1]\n",
                "df_not = X_train[X_train['churn']==-1]\n",
                "df_upsampled = resample(df_churn, replace=True, n_samples=df_not.shape[0])\n",
                "\n",
                "X_train = pd.concat([df_not, df_upsampled])"
            ]
        },
        {
            "cell_type": "code",
            "execution_count": null,
            "metadata": {},
            "outputs": [],
            "source": [
                "y_train = X_train['churn']\n",
                "X_train = X_train.drop(['churn'],axis=1)\n"
            ]
        },
        {
            "cell_type": "code",
            "execution_count": null,
            "metadata": {},
            "outputs": [],
            "source": [
                "y_test = X_test['churn']\n",
                "X_test = X_test.drop(['churn'],axis=1)\n"
            ]
        },
        {
            "cell_type": "code",
            "execution_count": null,
            "metadata": {},
            "outputs": [],
            "source": [
                "X_train = X_train.reset_index()"
            ]
        },
        {
            "cell_type": "code",
            "execution_count": null,
            "metadata": {},
            "outputs": [],
            "source": [
                "X_test = X_test.reset_index()"
            ]
        },
        {
            "cell_type": "code",
            "execution_count": null,
            "metadata": {},
            "outputs": [],
            "source": [
                "ohe1 = OneHotEncoder()\n",
                "codes = ohe1.fit_transform(X_train[c]).toarray()\n",
                "feature_names = ohe1.get_feature_names(c)\n",
                "#X_test[c]= OneHotEncoder().fit_transform(X_test[c])"
            ]
        },
        {
            "cell_type": "code",
            "execution_count": null,
            "metadata": {},
            "outputs": [],
            "source": [
                "X_train = pd.concat([X_train.drop(c, axis=1), pd.DataFrame(codes, columns=feature_names)], axis=1)"
            ]
        },
        {
            "cell_type": "code",
            "execution_count": null,
            "metadata": {},
            "outputs": [],
            "source": [
                "ohe2 = OneHotEncoder()\n",
                "codes2 = ohe2.fit_transform(X_test[c]).toarray()\n",
                "feature_names2 = ohe2.get_feature_names(c)"
            ]
        },
        {
            "cell_type": "code",
            "execution_count": null,
            "metadata": {},
            "outputs": [],
            "source": [
                "X_test = pd.concat([X_test.drop(c, axis=1), pd.DataFrame(codes2, columns=feature_names2)], axis= 1)"
            ]
        },
        {
            "cell_type": "code",
            "execution_count": null,
            "metadata": {},
            "outputs": [
                {
                    "name": "stdout",
                    "output_type": "stream",
                    "text": [
                        "[LibLinear]"
                    ]
                },
                {
                    "name": "stderr",
                    "output_type": "stream",
                    "text": [
                        "c:\\Users\\munch\\AppData\\Local\\Programs\\Python\\Python39\\lib\\site-packages\\sklearn\\svm\\_base.py:976: ConvergenceWarning: Liblinear failed to converge, increase the number of iterations.\n",
                        "  warnings.warn(\"Liblinear failed to converge, increase \"\n"
                    ]
                },
                {
                    "data": {
                        "text/plain": [
                            "LogisticRegression(max_iter=200, solver='liblinear', verbose=10)"
                        ]
                    },
                    "execution_count": 79,
                    "metadata": {},
                    "output_type": "execute_result"
                }
            ],
            "source": [
                "model = LogisticRegression(solver='liblinear',max_iter=200, verbose=10 )\n",
                "model.fit(X_train, y_train)"
            ]
        },
        {
            "cell_type": "code",
            "execution_count": null,
            "metadata": {},
            "outputs": [],
            "source": [
                "X_test[list(set(X_train.columns) - set(X_test.columns))] = 0"
            ]
        },
        {
            "cell_type": "code",
            "execution_count": null,
            "metadata": {},
            "outputs": [],
            "source": [
                "y_pred = model.predict(X_test)"
            ]
        },
        {
            "cell_type": "code",
            "execution_count": null,
            "metadata": {},
            "outputs": [
                {
                    "data": {
                        "text/plain": [
                            "0.5777345986902565"
                        ]
                    },
                    "execution_count": 84,
                    "metadata": {},
                    "output_type": "execute_result"
                }
            ],
            "source": [
                "roc_auc_score(y_test, y_pred)"
            ]
        },
        {
            "cell_type": "code",
            "execution_count": null,
            "metadata": {},
            "outputs": [],
            "source": []
        }
    ],
    "metadata": {
        "kernelspec": {
            "display_name": "Python 3.9.5 64-bit",
            "language": "python",
            "name": "python3"
        },
        "language_info": {
            "codemirror_mode": {
                "name": "ipython",
                "version": 3
            },
            "file_extension": ".py",
            "mimetype": "text/x-python",
            "name": "python",
            "nbconvert_exporter": "python",
            "pygments_lexer": "ipython3",
            "version": "3.9.5"
        },
        "vscode": {
            "interpreter": {
                "hash": "3751913ea9f5bd031e0b6a9f249a184a00fb379186ae8976a2500bce67b98d17"
            }
        }
    },
    "nbformat": 4,
    "nbformat_minor": 0
}
