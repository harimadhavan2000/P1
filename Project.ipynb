{
    "cells": [
        {
            "attachments": {},
            "cell_type": "markdown",
            "metadata": {},
            "source": [
                "# Project: Customer Relationship Prediction\n",
                "Univ.AI <br>\n",
                "AI-1 Cohort-5"
            ]
        },
        {
            "attachments": {},
            "cell_type": "markdown",
            "metadata": {},
            "source": [
                "## Name of the people who worked on the project:\n"
            ]
        },
        {
            "attachments": {},
            "cell_type": "markdown",
            "metadata": {},
            "source": [
                "Link to presentation: *link here*\n",
                "\n",
                "Link to slides: *link here*\n",
                "\n",
                "Link to poster: *link here*\n",
                "\n",
                "Any other information:*link here*"
            ]
        },
        {
            "cell_type": "code",
            "execution_count": 1,
            "metadata": {},
            "outputs": [],
            "source": [
                "import pandas as pd\n",
                "import numpy as np\n",
                "import seaborn as sns\n",
                "import matplotlib.pyplot as plt\n",
                "from sklearn.linear_model import LogisticRegression\n",
                "from sklearn.metrics import accuracy_score\n",
                "from sklearn.model_selection import train_test_split\n",
                "from sklearn.preprocessing import StandardScaler\n",
                "from sklearn.metrics import confusion_matrix\n",
                "from sklearn.model_selection import cross_val_score\n",
                "from sklearn.model_selection import GridSearchCV\n",
                "from sklearn.metrics import (confusion_matrix, auc, f1_score,roc_auc_score)\n",
                "from sklearn.utils import resample\n",
                "from sklearn.preprocessing import StandardScaler\n",
                "from sklearn.preprocessing import OneHotEncoder\n",
                "from sklearn.impute import KNNImputer"
            ]
        },
        {
            "cell_type": "code",
            "execution_count": 2,
            "metadata": {},
            "outputs": [],
            "source": [
                "df = pd.read_csv(\"./orange_small_train.data\", sep = \"\\t\")\n"
            ]
        },
        {
            "cell_type": "code",
            "execution_count": 3,
            "metadata": {},
            "outputs": [],
            "source": [
                "churn = pd.read_table('orange_small_train_churn.labels', header = None).loc[:, 0]\n"
            ]
        },
        {
            "cell_type": "code",
            "execution_count": 4,
            "metadata": {},
            "outputs": [],
            "source": [
                "churn = pd.Series(churn)\n",
                "df = df.assign(churn = churn)"
            ]
        },
        {
            "cell_type": "code",
            "execution_count": 5,
            "metadata": {},
            "outputs": [],
            "source": [
                "s = df.shape[1] "
            ]
        },
        {
            "cell_type": "code",
            "execution_count": 6,
            "metadata": {},
            "outputs": [
                {
                    "data": {
                        "text/plain": [
                            "40001"
                        ]
                    },
                    "execution_count": 6,
                    "metadata": {},
                    "output_type": "execute_result"
                }
            ],
            "source": [
                "missing_perc = 20\n",
                "min_count = int(((100 - missing_perc) / 100) * df.shape[0] + 1)\n",
                "min_count"
            ]
        },
        {
            "cell_type": "code",
            "execution_count": 7,
            "metadata": {},
            "outputs": [],
            "source": [
                "#drop all missing and only continous variable\n",
                "prefered_uniques = 10\n",
                "# create a list of numeric values and less than prefered uniques categorical columns\n",
                "fe_unique_columns = list(df.select_dtypes(include='number').columns) + list(\n",
                "    (df.select_dtypes(include='object').nunique() < prefered_uniques).index[\n",
                "        df.select_dtypes(include='object').nunique() < prefered_uniques])\n",
                "# collect only numeric features\n",
                "df_all_missing_drop_continous = df.dropna( axis=1,thresh=min_count).dropna(axis=0).select_dtypes(include=['number'])#.agg(['nunique','count'])\n",
                "numeric_col_after_drop = df_all_missing_drop_continous.columns\n",
                "# create df with categorical variables with less than 10 uniques\n",
                "df_all_missing_dropped_prefered_unique_cat = df[fe_unique_columns].dropna( axis=1,thresh=min_count).dropna(axis=0)\n",
                "feature_prefered_columns = list(df_all_missing_dropped_prefered_unique_cat.columns)\n",
                "# creating dummy variables for the data with  categorical variables\n",
                "df_encoded = pd.get_dummies(df_all_missing_dropped_prefered_unique_cat,drop_first=True)\n",
                "df_numeric = df_all_missing_drop_continous\n",
                "del df_all_missing_drop_continous"
            ]
        },
        {
            "cell_type": "code",
            "execution_count": 8,
            "metadata": {},
            "outputs": [
                {
                    "data": {
                        "text/html": [
                            "<div>\n",
                            "<style scoped>\n",
                            "    .dataframe tbody tr th:only-of-type {\n",
                            "        vertical-align: middle;\n",
                            "    }\n",
                            "\n",
                            "    .dataframe tbody tr th {\n",
                            "        vertical-align: top;\n",
                            "    }\n",
                            "\n",
                            "    .dataframe thead th {\n",
                            "        text-align: right;\n",
                            "    }\n",
                            "</style>\n",
                            "<table border=\"1\" class=\"dataframe\">\n",
                            "  <thead>\n",
                            "    <tr style=\"text-align: right;\">\n",
                            "      <th></th>\n",
                            "      <th>Var192</th>\n",
                            "      <th>Var193</th>\n",
                            "      <th>Var195</th>\n",
                            "      <th>Var196</th>\n",
                            "      <th>Var197</th>\n",
                            "      <th>Var198</th>\n",
                            "      <th>Var199</th>\n",
                            "      <th>Var202</th>\n",
                            "      <th>Var203</th>\n",
                            "      <th>Var204</th>\n",
                            "      <th>...</th>\n",
                            "      <th>Var217</th>\n",
                            "      <th>Var218</th>\n",
                            "      <th>Var219</th>\n",
                            "      <th>Var220</th>\n",
                            "      <th>Var221</th>\n",
                            "      <th>Var222</th>\n",
                            "      <th>Var223</th>\n",
                            "      <th>Var226</th>\n",
                            "      <th>Var227</th>\n",
                            "      <th>Var228</th>\n",
                            "    </tr>\n",
                            "  </thead>\n",
                            "  <tbody>\n",
                            "    <tr>\n",
                            "      <th>nunique</th>\n",
                            "      <td>False</td>\n",
                            "      <td>False</td>\n",
                            "      <td>False</td>\n",
                            "      <td>True</td>\n",
                            "      <td>False</td>\n",
                            "      <td>False</td>\n",
                            "      <td>False</td>\n",
                            "      <td>False</td>\n",
                            "      <td>True</td>\n",
                            "      <td>False</td>\n",
                            "      <td>...</td>\n",
                            "      <td>False</td>\n",
                            "      <td>True</td>\n",
                            "      <td>False</td>\n",
                            "      <td>False</td>\n",
                            "      <td>True</td>\n",
                            "      <td>False</td>\n",
                            "      <td>True</td>\n",
                            "      <td>False</td>\n",
                            "      <td>True</td>\n",
                            "      <td>False</td>\n",
                            "    </tr>\n",
                            "  </tbody>\n",
                            "</table>\n",
                            "<p>1 rows × 28 columns</p>\n",
                            "</div>"
                        ],
                        "text/plain": [
                            "         Var192  Var193  Var195  Var196  Var197  Var198  Var199  Var202  \\\n",
                            "nunique   False   False   False    True   False   False   False   False   \n",
                            "\n",
                            "         Var203  Var204  ...  Var217  Var218  Var219  Var220  Var221  Var222  \\\n",
                            "nunique    True   False  ...   False    True   False   False    True   False   \n",
                            "\n",
                            "         Var223  Var226  Var227  Var228  \n",
                            "nunique    True   False    True   False  \n",
                            "\n",
                            "[1 rows x 28 columns]"
                        ]
                    },
                    "execution_count": 8,
                    "metadata": {},
                    "output_type": "execute_result"
                }
            ],
            "source": [
                "df.dropna(axis=1, thresh=min_count).dropna(axis=0).select_dtypes(include='object').agg(['nunique']) < prefered_uniques"
            ]
        },
        {
            "cell_type": "code",
            "execution_count": 9,
            "metadata": {},
            "outputs": [
                {
                    "data": {
                        "text/plain": [
                            "array(['1K8T', 'z3mO', 'mKeq', 'JA1C'], dtype=object)"
                        ]
                    },
                    "execution_count": 9,
                    "metadata": {},
                    "output_type": "execute_result"
                }
            ],
            "source": [
                "df.dropna(axis=1, thresh=min_count).dropna(axis=0)['Var196'].unique()\n"
            ]
        },
        {
            "cell_type": "code",
            "execution_count": 10,
            "metadata": {},
            "outputs": [],
            "source": [
                "df = df.fillna(df.mean())"
            ]
        },
        {
            "cell_type": "code",
            "execution_count": 11,
            "metadata": {},
            "outputs": [],
            "source": [
                "c = []\n",
                "for i in range(s-39, s+ 1):\n",
                "    value = 0\n",
                "    value = 'Var{}'.format(i)\n",
                "    if value in df.columns:\n",
                "        c.append(value)"
            ]
        },
        {
            "cell_type": "code",
            "execution_count": 12,
            "metadata": {},
            "outputs": [],
            "source": [
                "def top_labels_train(X_train, col, max_val):\n",
                "    top_all = []\n",
                "    top = list(X_train[col].value_counts().sort_values(ascending=False).head(max_val).index)\n",
                "    return X_train.apply(lambda x: np.NaN if x[col] not in top else x[col], axis=1)"
            ]
        },
        {
            "cell_type": "code",
            "execution_count": 13,
            "metadata": {},
            "outputs": [],
            "source": [
                "for x in c:\n",
                "    df[x] = top_labels_train(df, x, 10)"
            ]
        },
        {
            "cell_type": "code",
            "execution_count": 14,
            "metadata": {},
            "outputs": [],
            "source": [
                "df = df.dropna(axis=1)"
            ]
        },
        {
            "cell_type": "code",
            "execution_count": 15,
            "metadata": {},
            "outputs": [
                {
                    "data": {
                        "text/plain": [
                            "\"for i in range(s-39, s+ 1):\\n    value = 0\\n    value = 'Var{}'.format(i)\\n    try:\\n        df.drop(value, axis=1, inplace=True)\\n    except:\\n        pass\""
                        ]
                    },
                    "execution_count": 15,
                    "metadata": {},
                    "output_type": "execute_result"
                }
            ],
            "source": [
                "'''for i in range(s-39, s+ 1):\n",
                "    value = 0\n",
                "    value = 'Var{}'.format(i)\n",
                "    try:\n",
                "        df.drop(value, axis=1, inplace=True)\n",
                "    except:\n",
                "        pass'''"
            ]
        },
        {
            "cell_type": "code",
            "execution_count": 16,
            "metadata": {},
            "outputs": [
                {
                    "data": {
                        "text/html": [
                            "<div>\n",
                            "<style scoped>\n",
                            "    .dataframe tbody tr th:only-of-type {\n",
                            "        vertical-align: middle;\n",
                            "    }\n",
                            "\n",
                            "    .dataframe tbody tr th {\n",
                            "        vertical-align: top;\n",
                            "    }\n",
                            "\n",
                            "    .dataframe thead th {\n",
                            "        text-align: right;\n",
                            "    }\n",
                            "</style>\n",
                            "<table border=\"1\" class=\"dataframe\">\n",
                            "  <thead>\n",
                            "    <tr style=\"text-align: right;\">\n",
                            "      <th></th>\n",
                            "      <th>Var1</th>\n",
                            "      <th>Var2</th>\n",
                            "      <th>Var3</th>\n",
                            "      <th>Var4</th>\n",
                            "      <th>Var5</th>\n",
                            "      <th>Var6</th>\n",
                            "      <th>Var7</th>\n",
                            "      <th>Var9</th>\n",
                            "      <th>Var10</th>\n",
                            "      <th>Var11</th>\n",
                            "      <th>...</th>\n",
                            "      <th>Var187</th>\n",
                            "      <th>Var188</th>\n",
                            "      <th>Var189</th>\n",
                            "      <th>Var190</th>\n",
                            "      <th>Var196</th>\n",
                            "      <th>Var210</th>\n",
                            "      <th>Var211</th>\n",
                            "      <th>Var221</th>\n",
                            "      <th>Var227</th>\n",
                            "      <th>churn</th>\n",
                            "    </tr>\n",
                            "  </thead>\n",
                            "  <tbody>\n",
                            "    <tr>\n",
                            "      <th>0</th>\n",
                            "      <td>11.487179</td>\n",
                            "      <td>0.004029</td>\n",
                            "      <td>425.298387</td>\n",
                            "      <td>0.125396</td>\n",
                            "      <td>238793.32885</td>\n",
                            "      <td>1526.000000</td>\n",
                            "      <td>7.000000</td>\n",
                            "      <td>48.145299</td>\n",
                            "      <td>392605.656355</td>\n",
                            "      <td>8.625806</td>\n",
                            "      <td>...</td>\n",
                            "      <td>16.54416</td>\n",
                            "      <td>167.368477</td>\n",
                            "      <td>462.000000</td>\n",
                            "      <td>22007.045192</td>\n",
                            "      <td>1K8T</td>\n",
                            "      <td>uKAI</td>\n",
                            "      <td>L84s</td>\n",
                            "      <td>oslk</td>\n",
                            "      <td>RAYp</td>\n",
                            "      <td>-1</td>\n",
                            "    </tr>\n",
                            "    <tr>\n",
                            "      <th>1</th>\n",
                            "      <td>11.487179</td>\n",
                            "      <td>0.004029</td>\n",
                            "      <td>425.298387</td>\n",
                            "      <td>0.125396</td>\n",
                            "      <td>238793.32885</td>\n",
                            "      <td>525.000000</td>\n",
                            "      <td>0.000000</td>\n",
                            "      <td>48.145299</td>\n",
                            "      <td>392605.656355</td>\n",
                            "      <td>8.625806</td>\n",
                            "      <td>...</td>\n",
                            "      <td>16.54416</td>\n",
                            "      <td>167.368477</td>\n",
                            "      <td>270.142137</td>\n",
                            "      <td>22007.045192</td>\n",
                            "      <td>1K8T</td>\n",
                            "      <td>uKAI</td>\n",
                            "      <td>L84s</td>\n",
                            "      <td>oslk</td>\n",
                            "      <td>RAYp</td>\n",
                            "      <td>1</td>\n",
                            "    </tr>\n",
                            "    <tr>\n",
                            "      <th>2</th>\n",
                            "      <td>11.487179</td>\n",
                            "      <td>0.004029</td>\n",
                            "      <td>425.298387</td>\n",
                            "      <td>0.125396</td>\n",
                            "      <td>238793.32885</td>\n",
                            "      <td>5236.000000</td>\n",
                            "      <td>7.000000</td>\n",
                            "      <td>48.145299</td>\n",
                            "      <td>392605.656355</td>\n",
                            "      <td>8.625806</td>\n",
                            "      <td>...</td>\n",
                            "      <td>16.54416</td>\n",
                            "      <td>167.368477</td>\n",
                            "      <td>270.142137</td>\n",
                            "      <td>22007.045192</td>\n",
                            "      <td>1K8T</td>\n",
                            "      <td>uKAI</td>\n",
                            "      <td>L84s</td>\n",
                            "      <td>Al6ZaUT</td>\n",
                            "      <td>02N6s8f</td>\n",
                            "      <td>-1</td>\n",
                            "    </tr>\n",
                            "    <tr>\n",
                            "      <th>3</th>\n",
                            "      <td>11.487179</td>\n",
                            "      <td>0.004029</td>\n",
                            "      <td>425.298387</td>\n",
                            "      <td>0.125396</td>\n",
                            "      <td>238793.32885</td>\n",
                            "      <td>1326.437116</td>\n",
                            "      <td>0.000000</td>\n",
                            "      <td>48.145299</td>\n",
                            "      <td>392605.656355</td>\n",
                            "      <td>8.625806</td>\n",
                            "      <td>...</td>\n",
                            "      <td>16.54416</td>\n",
                            "      <td>167.368477</td>\n",
                            "      <td>270.142137</td>\n",
                            "      <td>22007.045192</td>\n",
                            "      <td>1K8T</td>\n",
                            "      <td>uKAI</td>\n",
                            "      <td>Mtgm</td>\n",
                            "      <td>oslk</td>\n",
                            "      <td>RAYp</td>\n",
                            "      <td>-1</td>\n",
                            "    </tr>\n",
                            "    <tr>\n",
                            "      <th>4</th>\n",
                            "      <td>11.487179</td>\n",
                            "      <td>0.004029</td>\n",
                            "      <td>425.298387</td>\n",
                            "      <td>0.125396</td>\n",
                            "      <td>238793.32885</td>\n",
                            "      <td>1029.000000</td>\n",
                            "      <td>7.000000</td>\n",
                            "      <td>48.145299</td>\n",
                            "      <td>392605.656355</td>\n",
                            "      <td>8.625806</td>\n",
                            "      <td>...</td>\n",
                            "      <td>16.54416</td>\n",
                            "      <td>167.368477</td>\n",
                            "      <td>270.142137</td>\n",
                            "      <td>22007.045192</td>\n",
                            "      <td>1K8T</td>\n",
                            "      <td>uKAI</td>\n",
                            "      <td>L84s</td>\n",
                            "      <td>oslk</td>\n",
                            "      <td>RAYp</td>\n",
                            "      <td>-1</td>\n",
                            "    </tr>\n",
                            "    <tr>\n",
                            "      <th>...</th>\n",
                            "      <td>...</td>\n",
                            "      <td>...</td>\n",
                            "      <td>...</td>\n",
                            "      <td>...</td>\n",
                            "      <td>...</td>\n",
                            "      <td>...</td>\n",
                            "      <td>...</td>\n",
                            "      <td>...</td>\n",
                            "      <td>...</td>\n",
                            "      <td>...</td>\n",
                            "      <td>...</td>\n",
                            "      <td>...</td>\n",
                            "      <td>...</td>\n",
                            "      <td>...</td>\n",
                            "      <td>...</td>\n",
                            "      <td>...</td>\n",
                            "      <td>...</td>\n",
                            "      <td>...</td>\n",
                            "      <td>...</td>\n",
                            "      <td>...</td>\n",
                            "      <td>...</td>\n",
                            "    </tr>\n",
                            "    <tr>\n",
                            "      <th>49995</th>\n",
                            "      <td>11.487179</td>\n",
                            "      <td>0.004029</td>\n",
                            "      <td>425.298387</td>\n",
                            "      <td>0.125396</td>\n",
                            "      <td>238793.32885</td>\n",
                            "      <td>357.000000</td>\n",
                            "      <td>0.000000</td>\n",
                            "      <td>48.145299</td>\n",
                            "      <td>392605.656355</td>\n",
                            "      <td>8.625806</td>\n",
                            "      <td>...</td>\n",
                            "      <td>16.54416</td>\n",
                            "      <td>167.368477</td>\n",
                            "      <td>270.142137</td>\n",
                            "      <td>22007.045192</td>\n",
                            "      <td>1K8T</td>\n",
                            "      <td>uKAI</td>\n",
                            "      <td>L84s</td>\n",
                            "      <td>oslk</td>\n",
                            "      <td>RAYp</td>\n",
                            "      <td>-1</td>\n",
                            "    </tr>\n",
                            "    <tr>\n",
                            "      <th>49996</th>\n",
                            "      <td>11.487179</td>\n",
                            "      <td>0.004029</td>\n",
                            "      <td>425.298387</td>\n",
                            "      <td>0.125396</td>\n",
                            "      <td>238793.32885</td>\n",
                            "      <td>1078.000000</td>\n",
                            "      <td>0.000000</td>\n",
                            "      <td>48.145299</td>\n",
                            "      <td>392605.656355</td>\n",
                            "      <td>8.625806</td>\n",
                            "      <td>...</td>\n",
                            "      <td>16.54416</td>\n",
                            "      <td>167.368477</td>\n",
                            "      <td>396.000000</td>\n",
                            "      <td>22007.045192</td>\n",
                            "      <td>1K8T</td>\n",
                            "      <td>uKAI</td>\n",
                            "      <td>Mtgm</td>\n",
                            "      <td>oslk</td>\n",
                            "      <td>RAYp</td>\n",
                            "      <td>-1</td>\n",
                            "    </tr>\n",
                            "    <tr>\n",
                            "      <th>49997</th>\n",
                            "      <td>11.487179</td>\n",
                            "      <td>0.004029</td>\n",
                            "      <td>425.298387</td>\n",
                            "      <td>0.125396</td>\n",
                            "      <td>238793.32885</td>\n",
                            "      <td>2807.000000</td>\n",
                            "      <td>7.000000</td>\n",
                            "      <td>48.145299</td>\n",
                            "      <td>392605.656355</td>\n",
                            "      <td>8.625806</td>\n",
                            "      <td>...</td>\n",
                            "      <td>16.54416</td>\n",
                            "      <td>167.368477</td>\n",
                            "      <td>270.142137</td>\n",
                            "      <td>22007.045192</td>\n",
                            "      <td>1K8T</td>\n",
                            "      <td>uKAI</td>\n",
                            "      <td>L84s</td>\n",
                            "      <td>oslk</td>\n",
                            "      <td>RAYp</td>\n",
                            "      <td>-1</td>\n",
                            "    </tr>\n",
                            "    <tr>\n",
                            "      <th>49998</th>\n",
                            "      <td>11.487179</td>\n",
                            "      <td>0.004029</td>\n",
                            "      <td>425.298387</td>\n",
                            "      <td>0.000000</td>\n",
                            "      <td>238793.32885</td>\n",
                            "      <td>1326.437116</td>\n",
                            "      <td>6.809496</td>\n",
                            "      <td>48.145299</td>\n",
                            "      <td>392605.656355</td>\n",
                            "      <td>8.625806</td>\n",
                            "      <td>...</td>\n",
                            "      <td>16.54416</td>\n",
                            "      <td>167.368477</td>\n",
                            "      <td>276.000000</td>\n",
                            "      <td>22007.045192</td>\n",
                            "      <td>1K8T</td>\n",
                            "      <td>uKAI</td>\n",
                            "      <td>Mtgm</td>\n",
                            "      <td>oslk</td>\n",
                            "      <td>RAYp</td>\n",
                            "      <td>-1</td>\n",
                            "    </tr>\n",
                            "    <tr>\n",
                            "      <th>49999</th>\n",
                            "      <td>11.487179</td>\n",
                            "      <td>0.004029</td>\n",
                            "      <td>425.298387</td>\n",
                            "      <td>0.125396</td>\n",
                            "      <td>238793.32885</td>\n",
                            "      <td>1694.000000</td>\n",
                            "      <td>7.000000</td>\n",
                            "      <td>48.145299</td>\n",
                            "      <td>392605.656355</td>\n",
                            "      <td>8.625806</td>\n",
                            "      <td>...</td>\n",
                            "      <td>16.54416</td>\n",
                            "      <td>167.368477</td>\n",
                            "      <td>270.142137</td>\n",
                            "      <td>22007.045192</td>\n",
                            "      <td>1K8T</td>\n",
                            "      <td>uKAI</td>\n",
                            "      <td>L84s</td>\n",
                            "      <td>oslk</td>\n",
                            "      <td>RAYp</td>\n",
                            "      <td>-1</td>\n",
                            "    </tr>\n",
                            "  </tbody>\n",
                            "</table>\n",
                            "<p>50000 rows × 180 columns</p>\n",
                            "</div>"
                        ],
                        "text/plain": [
                            "            Var1      Var2        Var3      Var4          Var5         Var6  \\\n",
                            "0      11.487179  0.004029  425.298387  0.125396  238793.32885  1526.000000   \n",
                            "1      11.487179  0.004029  425.298387  0.125396  238793.32885   525.000000   \n",
                            "2      11.487179  0.004029  425.298387  0.125396  238793.32885  5236.000000   \n",
                            "3      11.487179  0.004029  425.298387  0.125396  238793.32885  1326.437116   \n",
                            "4      11.487179  0.004029  425.298387  0.125396  238793.32885  1029.000000   \n",
                            "...          ...       ...         ...       ...           ...          ...   \n",
                            "49995  11.487179  0.004029  425.298387  0.125396  238793.32885   357.000000   \n",
                            "49996  11.487179  0.004029  425.298387  0.125396  238793.32885  1078.000000   \n",
                            "49997  11.487179  0.004029  425.298387  0.125396  238793.32885  2807.000000   \n",
                            "49998  11.487179  0.004029  425.298387  0.000000  238793.32885  1326.437116   \n",
                            "49999  11.487179  0.004029  425.298387  0.125396  238793.32885  1694.000000   \n",
                            "\n",
                            "           Var7       Var9          Var10     Var11  ...    Var187  \\\n",
                            "0      7.000000  48.145299  392605.656355  8.625806  ...  16.54416   \n",
                            "1      0.000000  48.145299  392605.656355  8.625806  ...  16.54416   \n",
                            "2      7.000000  48.145299  392605.656355  8.625806  ...  16.54416   \n",
                            "3      0.000000  48.145299  392605.656355  8.625806  ...  16.54416   \n",
                            "4      7.000000  48.145299  392605.656355  8.625806  ...  16.54416   \n",
                            "...         ...        ...            ...       ...  ...       ...   \n",
                            "49995  0.000000  48.145299  392605.656355  8.625806  ...  16.54416   \n",
                            "49996  0.000000  48.145299  392605.656355  8.625806  ...  16.54416   \n",
                            "49997  7.000000  48.145299  392605.656355  8.625806  ...  16.54416   \n",
                            "49998  6.809496  48.145299  392605.656355  8.625806  ...  16.54416   \n",
                            "49999  7.000000  48.145299  392605.656355  8.625806  ...  16.54416   \n",
                            "\n",
                            "           Var188      Var189        Var190  Var196  Var210  Var211   Var221  \\\n",
                            "0      167.368477  462.000000  22007.045192    1K8T    uKAI    L84s     oslk   \n",
                            "1      167.368477  270.142137  22007.045192    1K8T    uKAI    L84s     oslk   \n",
                            "2      167.368477  270.142137  22007.045192    1K8T    uKAI    L84s  Al6ZaUT   \n",
                            "3      167.368477  270.142137  22007.045192    1K8T    uKAI    Mtgm     oslk   \n",
                            "4      167.368477  270.142137  22007.045192    1K8T    uKAI    L84s     oslk   \n",
                            "...           ...         ...           ...     ...     ...     ...      ...   \n",
                            "49995  167.368477  270.142137  22007.045192    1K8T    uKAI    L84s     oslk   \n",
                            "49996  167.368477  396.000000  22007.045192    1K8T    uKAI    Mtgm     oslk   \n",
                            "49997  167.368477  270.142137  22007.045192    1K8T    uKAI    L84s     oslk   \n",
                            "49998  167.368477  276.000000  22007.045192    1K8T    uKAI    Mtgm     oslk   \n",
                            "49999  167.368477  270.142137  22007.045192    1K8T    uKAI    L84s     oslk   \n",
                            "\n",
                            "        Var227  churn  \n",
                            "0         RAYp     -1  \n",
                            "1         RAYp      1  \n",
                            "2      02N6s8f     -1  \n",
                            "3         RAYp     -1  \n",
                            "4         RAYp     -1  \n",
                            "...        ...    ...  \n",
                            "49995     RAYp     -1  \n",
                            "49996     RAYp     -1  \n",
                            "49997     RAYp     -1  \n",
                            "49998     RAYp     -1  \n",
                            "49999     RAYp     -1  \n",
                            "\n",
                            "[50000 rows x 180 columns]"
                        ]
                    },
                    "execution_count": 16,
                    "metadata": {},
                    "output_type": "execute_result"
                }
            ],
            "source": [
                "df"
            ]
        },
        {
            "cell_type": "code",
            "execution_count": 17,
            "metadata": {},
            "outputs": [],
            "source": [
                "X_train, X_test = train_test_split(df ,test_size=0.2)\n"
            ]
        },
        {
            "cell_type": "code",
            "execution_count": 18,
            "metadata": {},
            "outputs": [],
            "source": [
                "c = []\n",
                "for i in range(s-39, s+ 1):\n",
                "    value = 0\n",
                "    value = 'Var{}'.format(i)\n",
                "    if value in df.columns:\n",
                "        c.append(value)"
            ]
        },
        {
            "cell_type": "code",
            "execution_count": 19,
            "metadata": {},
            "outputs": [],
            "source": [
                "df_churn = X_train[X_train['churn']==1]\n",
                "df_not = X_train[X_train['churn']==-1]\n",
                "df_upsampled = resample(df_churn, replace=True, n_samples=df_not.shape[0])\n",
                "\n",
                "X_train = pd.concat([df_not, df_upsampled])"
            ]
        },
        {
            "cell_type": "code",
            "execution_count": 20,
            "metadata": {},
            "outputs": [],
            "source": [
                "y_train = X_train['churn']\n",
                "X_train = X_train.drop(['churn'],axis=1)\n"
            ]
        },
        {
            "cell_type": "code",
            "execution_count": 21,
            "metadata": {},
            "outputs": [],
            "source": [
                "y_test = X_test['churn']\n",
                "X_test = X_test.drop(['churn'],axis=1)\n"
            ]
        },
        {
            "cell_type": "code",
            "execution_count": 22,
            "metadata": {},
            "outputs": [],
            "source": [
                "X_train = X_train.reset_index()"
            ]
        },
        {
            "cell_type": "code",
            "execution_count": 23,
            "metadata": {},
            "outputs": [],
            "source": [
                "X_test = X_test.reset_index()"
            ]
        },
        {
            "cell_type": "code",
            "execution_count": 24,
            "metadata": {},
            "outputs": [],
            "source": [
                "ohe1 = OneHotEncoder()\n",
                "codes = ohe1.fit_transform(X_train[c]).toarray()\n",
                "feature_names = ohe1.get_feature_names(c)\n",
                "#X_test[c]= OneHotEncoder().fit_transform(X_test[c])"
            ]
        },
        {
            "cell_type": "code",
            "execution_count": 25,
            "metadata": {},
            "outputs": [],
            "source": [
                "X_train = pd.concat([X_train.drop(c, axis=1), pd.DataFrame(codes, columns=feature_names)], axis=1)"
            ]
        },
        {
            "cell_type": "code",
            "execution_count": 26,
            "metadata": {},
            "outputs": [],
            "source": [
                "ohe2 = OneHotEncoder()\n",
                "codes2 = ohe2.fit_transform(X_test[c]).toarray()\n",
                "feature_names2 = ohe2.get_feature_names(c)"
            ]
        },
        {
            "cell_type": "code",
            "execution_count": 27,
            "metadata": {},
            "outputs": [],
            "source": [
                "X_test = pd.concat([X_test.drop(c, axis=1), pd.DataFrame(codes2, columns=feature_names2)], axis= 1)"
            ]
        },
        {
            "cell_type": "code",
            "execution_count": 28,
            "metadata": {},
            "outputs": [
                {
                    "name": "stdout",
                    "output_type": "stream",
                    "text": [
                        "[LibLinear]"
                    ]
                },
                {
                    "name": "stderr",
                    "output_type": "stream",
                    "text": [
                        "c:\\Users\\munch\\AppData\\Local\\Programs\\Python\\Python39\\lib\\site-packages\\sklearn\\svm\\_base.py:976: ConvergenceWarning: Liblinear failed to converge, increase the number of iterations.\n",
                        "  warnings.warn(\"Liblinear failed to converge, increase \"\n"
                    ]
                },
                {
                    "data": {
                        "text/plain": [
                            "LogisticRegression(max_iter=200, solver='liblinear', verbose=10)"
                        ]
                    },
                    "execution_count": 28,
                    "metadata": {},
                    "output_type": "execute_result"
                }
            ],
            "source": [
                "model = LogisticRegression(solver='liblinear',max_iter=200, verbose=10 )\n",
                "model.fit(X_train, y_train)"
            ]
        },
        {
            "cell_type": "code",
            "execution_count": 33,
            "metadata": {},
            "outputs": [
                {
                    "data": {
                        "text/plain": [
                            "Index(['index', 'Var1', 'Var2', 'Var3', 'Var4', 'Var5', 'Var6', 'Var7', 'Var9',\n",
                            "       'Var10',\n",
                            "       ...\n",
                            "       'Var221_oslk', 'Var221_z4pH', 'Var221_zCkv', 'Var227_02N6s8f',\n",
                            "       'Var227_6fzt', 'Var227_RAYp', 'Var227_ZI9m', 'Var227_nIGXDli',\n",
                            "       'Var227_nIGjgSB', 'Var227_vJ_w8kB'],\n",
                            "      dtype='object', length=201)"
                        ]
                    },
                    "execution_count": 33,
                    "metadata": {},
                    "output_type": "execute_result"
                }
            ],
            "source": [
                "X_train.columns"
            ]
        },
        {
            "cell_type": "code",
            "execution_count": 35,
            "metadata": {},
            "outputs": [
                {
                    "data": {
                        "text/plain": [
                            "['Var196_mKeq']"
                        ]
                    },
                    "execution_count": 35,
                    "metadata": {},
                    "output_type": "execute_result"
                }
            ],
            "source": [
                "list(set(X_train.columns) - set(X_test.columns))"
            ]
        },
        {
            "cell_type": "code",
            "execution_count": 37,
            "metadata": {},
            "outputs": [],
            "source": [
                "X_test['Var196_mKeq'] = 0"
            ]
        },
        {
            "cell_type": "code",
            "execution_count": 38,
            "metadata": {},
            "outputs": [],
            "source": [
                "y_pred = model.predict(X_test)"
            ]
        },
        {
            "cell_type": "code",
            "execution_count": 40,
            "metadata": {},
            "outputs": [
                {
                    "data": {
                        "text/plain": [
                            "0.5948542669175747"
                        ]
                    },
                    "execution_count": 40,
                    "metadata": {},
                    "output_type": "execute_result"
                }
            ],
            "source": [
                "roc_auc_score(y_test, y_pred)"
            ]
        },
        {
            "cell_type": "code",
            "execution_count": null,
            "metadata": {},
            "outputs": [],
            "source": []
        }
    ],
    "metadata": {
        "kernelspec": {
            "display_name": "Python 3.9.5 64-bit",
            "language": "python",
            "name": "python3"
        },
        "language_info": {
            "codemirror_mode": {
                "name": "ipython",
                "version": 3
            },
            "file_extension": ".py",
            "mimetype": "text/x-python",
            "name": "python",
            "nbconvert_exporter": "python",
            "pygments_lexer": "ipython3",
            "version": "3.9.5"
        },
        "vscode": {
            "interpreter": {
                "hash": "3751913ea9f5bd031e0b6a9f249a184a00fb379186ae8976a2500bce67b98d17"
            }
        }
    },
    "nbformat": 4,
    "nbformat_minor": 0
}
