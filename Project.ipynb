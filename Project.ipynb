{
    "cells": [
        {
            "attachments": {},
            "cell_type": "markdown",
            "metadata": {},
            "source": [
                "# Project: Customer Relationship Prediction\n",
                "Univ.AI <br>\n",
                "AI-1 Cohort-5"
            ]
        },
        {
            "attachments": {},
            "cell_type": "markdown",
            "metadata": {},
            "source": [
                "## Name of the people who worked on the project:"
            ]
        },
        {
            "attachments": {},
            "cell_type": "markdown",
            "metadata": {},
            "source": [
                "Link to presentation: *link here*\n",
                "\n",
                "Link to slides: *link here*\n",
                "\n",
                "Link to poster: *link here*\n",
                "\n",
                "Any other information:*link here*"
            ]
        }
    ],
    "metadata": {
        "kernelspec": {
            "display_name": "Python 3 (ipykernel)",
            "language": "python",
            "name": "python3"
        }
    },
    "nbformat": 4,
    "nbformat_minor": 0
}
